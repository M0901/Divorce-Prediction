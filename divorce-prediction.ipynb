{
 "cells": [
  {
   "cell_type": "markdown",
   "id": "9b690ca3",
   "metadata": {
    "papermill": {
     "duration": 0.0335,
     "end_time": "2021-12-25T14:49:34.459837",
     "exception": false,
     "start_time": "2021-12-25T14:49:34.426337",
     "status": "completed"
    },
    "tags": []
   },
   "source": [
    "## Divorce prediction using Factor Analysis"
   ]
  },
  {
   "cell_type": "code",
   "execution_count": 3,
   "id": "b997f472",
   "metadata": {
    "_cell_guid": "b1076dfc-b9ad-4769-8c92-a6c4dae69d19",
    "_uuid": "8f2839f25d086af736a60e9eeb907d3b93b6e0e5",
    "papermill": {
     "duration": 1.134163,
     "end_time": "2021-12-25T14:49:35.626545",
     "exception": false,
     "start_time": "2021-12-25T14:49:34.492382",
     "status": "completed"
    },
    "tags": []
   },
   "outputs": [],
   "source": [
    "# import necessary libraries\n",
    "\n",
    "import pandas as pd\n",
    "import numpy as np\n",
    "import matplotlib.pyplot as plt\n",
    "plt.style.use('ggplot')\n",
    "import seaborn as sns\n",
    "\n",
    "import warnings\n",
    "warnings.filterwarnings(\"ignore\")\n",
    "\n",
    "%matplotlib inline"
   ]
  },
  {
   "cell_type": "code",
   "execution_count": 4,
   "id": "30bfbe18",
   "metadata": {
    "papermill": {
     "duration": 0.064178,
     "end_time": "2021-12-25T14:49:35.724859",
     "exception": false,
     "start_time": "2021-12-25T14:49:35.660681",
     "status": "completed"
    },
    "tags": []
   },
   "outputs": [
    {
     "data": {
      "text/plain": [
       "(170, 55)"
      ]
     },
     "execution_count": 4,
     "metadata": {},
     "output_type": "execute_result"
    }
   ],
   "source": [
    "# Load the files\n",
    "df = pd.read_csv('divorce.csv')\n",
    "df.shape"
   ]
  },
  {
   "cell_type": "code",
   "execution_count": 5,
   "id": "447fef8d",
   "metadata": {
    "papermill": {
     "duration": 0.067369,
     "end_time": "2021-12-25T14:49:35.991260",
     "exception": false,
     "start_time": "2021-12-25T14:49:35.923891",
     "status": "completed"
    },
    "tags": []
   },
   "outputs": [
    {
     "name": "stdout",
     "output_type": "stream",
     "text": [
      "<class 'pandas.core.frame.DataFrame'>\n",
      "RangeIndex: 170 entries, 0 to 169\n",
      "Columns: 55 entries, Sorry_end to Divorce_Y_N\n",
      "dtypes: int64(55)\n",
      "memory usage: 73.2 KB\n"
     ]
    }
   ],
   "source": [
    "df.info(verbose=False)"
   ]
  },
  {
   "cell_type": "markdown",
   "id": "0f351fcf",
   "metadata": {
    "papermill": {
     "duration": 0.03469,
     "end_time": "2021-12-25T14:49:36.059732",
     "exception": false,
     "start_time": "2021-12-25T14:49:36.025042",
     "status": "completed"
    },
    "tags": []
   },
   "source": [
    "Values in all columns have integer data type"
   ]
  },
  {
   "cell_type": "code",
   "execution_count": 6,
   "id": "7504fbbb",
   "metadata": {
    "papermill": {
     "duration": 0.517744,
     "end_time": "2021-12-25T14:49:36.612729",
     "exception": false,
     "start_time": "2021-12-25T14:49:36.094985",
     "status": "completed"
    },
    "tags": []
   },
   "outputs": [
    {
     "ename": "ModuleNotFoundError",
     "evalue": "No module named 'missingno'",
     "output_type": "error",
     "traceback": [
      "\u001b[1;31m---------------------------------------------------------------------------\u001b[0m",
      "\u001b[1;31mModuleNotFoundError\u001b[0m                       Traceback (most recent call last)",
      "Input \u001b[1;32mIn [6]\u001b[0m, in \u001b[0;36m<cell line: 2>\u001b[1;34m()\u001b[0m\n\u001b[0;32m      1\u001b[0m \u001b[38;5;66;03m# Visualize the missing values in data\u001b[39;00m\n\u001b[1;32m----> 2\u001b[0m \u001b[38;5;28;01mimport\u001b[39;00m \u001b[38;5;21;01mmissingno\u001b[39;00m \u001b[38;5;28;01mas\u001b[39;00m \u001b[38;5;21;01mmsno\u001b[39;00m\n\u001b[0;32m      3\u001b[0m msno\u001b[38;5;241m.\u001b[39mmatrix(df)\n",
      "\u001b[1;31mModuleNotFoundError\u001b[0m: No module named 'missingno'"
     ]
    }
   ],
   "source": [
    "# Visualize the missing values in data\n",
    "import missingno as msno\n",
    "msno.matrix(df)"
   ]
  },
  {
   "cell_type": "markdown",
   "id": "50e6876a",
   "metadata": {
    "papermill": {
     "duration": 0.035669,
     "end_time": "2021-12-25T14:49:36.683616",
     "exception": false,
     "start_time": "2021-12-25T14:49:36.647947",
     "status": "completed"
    },
    "tags": []
   },
   "source": [
    "The data doesnt contain any null values."
   ]
  },
  {
   "cell_type": "markdown",
   "id": "b9d6ef0e",
   "metadata": {
    "papermill": {
     "duration": 0.035873,
     "end_time": "2021-12-25T14:49:36.756195",
     "exception": false,
     "start_time": "2021-12-25T14:49:36.720322",
     "status": "completed"
    },
    "tags": []
   },
   "source": [
    "### EDA"
   ]
  },
  {
   "cell_type": "markdown",
   "id": "1ab1c8ce",
   "metadata": {
    "papermill": {
     "duration": 0.034103,
     "end_time": "2021-12-25T14:49:36.826298",
     "exception": false,
     "start_time": "2021-12-25T14:49:36.792195",
     "status": "completed"
    },
    "tags": []
   },
   "source": [
    "The dataset contains the rating given by person to his/her spouse based on 55 different questions asked related to marriage life. \n",
    "\n",
    "And, the person has to rate from 0 - 4, with 0 being lowest and 4 being highest"
   ]
  },
  {
   "cell_type": "code",
   "execution_count": 7,
   "id": "ef3200ef",
   "metadata": {
    "papermill": {
     "duration": 0.208967,
     "end_time": "2021-12-25T14:49:37.070773",
     "exception": false,
     "start_time": "2021-12-25T14:49:36.861806",
     "status": "completed"
    },
    "tags": []
   },
   "outputs": [
    {
     "name": "stdout",
     "output_type": "stream",
     "text": [
      " -> Yellow highlighted cells indicates the max percentage of people given that rating\n",
      " -> Green highlighted cells indicates the min percentage of people given that rating\n"
     ]
    },
    {
     "data": {
      "text/html": [
       "<style type=\"text/css\">\n",
       "#T_ccf11_row0_col0, #T_ccf11_row1_col0, #T_ccf11_row2_col3, #T_ccf11_row3_col0, #T_ccf11_row4_col0, #T_ccf11_row5_col0, #T_ccf11_row6_col0, #T_ccf11_row7_col0, #T_ccf11_row8_col0, #T_ccf11_row9_col0, #T_ccf11_row10_col0, #T_ccf11_row11_col0, #T_ccf11_row12_col0, #T_ccf11_row13_col0, #T_ccf11_row14_col0, #T_ccf11_row15_col0, #T_ccf11_row16_col0, #T_ccf11_row17_col0, #T_ccf11_row18_col0, #T_ccf11_row19_col0, #T_ccf11_row20_col0, #T_ccf11_row21_col0, #T_ccf11_row22_col0, #T_ccf11_row23_col0, #T_ccf11_row24_col0, #T_ccf11_row25_col0, #T_ccf11_row26_col0, #T_ccf11_row27_col0, #T_ccf11_row28_col0, #T_ccf11_row29_col0, #T_ccf11_row30_col4, #T_ccf11_row31_col4, #T_ccf11_row32_col0, #T_ccf11_row33_col0, #T_ccf11_row34_col0, #T_ccf11_row35_col0, #T_ccf11_row36_col4, #T_ccf11_row37_col0, #T_ccf11_row38_col4, #T_ccf11_row39_col0, #T_ccf11_row40_col4, #T_ccf11_row41_col4, #T_ccf11_row42_col4, #T_ccf11_row43_col0, #T_ccf11_row44_col4, #T_ccf11_row45_col4, #T_ccf11_row46_col4, #T_ccf11_row47_col4, #T_ccf11_row48_col4, #T_ccf11_row49_col4, #T_ccf11_row50_col4, #T_ccf11_row51_col4, #T_ccf11_row52_col4, #T_ccf11_row53_col4 {\n",
       "  background-color: yellow;\n",
       "}\n",
       "#T_ccf11_row0_col1, #T_ccf11_row1_col4, #T_ccf11_row2_col4, #T_ccf11_row3_col1, #T_ccf11_row4_col2, #T_ccf11_row5_col4, #T_ccf11_row6_col3, #T_ccf11_row7_col1, #T_ccf11_row8_col1, #T_ccf11_row9_col1, #T_ccf11_row9_col4, #T_ccf11_row10_col2, #T_ccf11_row11_col4, #T_ccf11_row12_col2, #T_ccf11_row13_col2, #T_ccf11_row14_col2, #T_ccf11_row15_col1, #T_ccf11_row16_col2, #T_ccf11_row17_col1, #T_ccf11_row18_col2, #T_ccf11_row19_col1, #T_ccf11_row20_col4, #T_ccf11_row21_col1, #T_ccf11_row22_col1, #T_ccf11_row23_col1, #T_ccf11_row24_col2, #T_ccf11_row25_col1, #T_ccf11_row25_col4, #T_ccf11_row26_col4, #T_ccf11_row27_col1, #T_ccf11_row28_col2, #T_ccf11_row29_col1, #T_ccf11_row30_col3, #T_ccf11_row31_col2, #T_ccf11_row32_col2, #T_ccf11_row33_col2, #T_ccf11_row34_col2, #T_ccf11_row35_col2, #T_ccf11_row36_col2, #T_ccf11_row37_col2, #T_ccf11_row38_col3, #T_ccf11_row39_col2, #T_ccf11_row40_col2, #T_ccf11_row41_col1, #T_ccf11_row42_col0, #T_ccf11_row43_col1, #T_ccf11_row44_col2, #T_ccf11_row45_col1, #T_ccf11_row46_col2, #T_ccf11_row46_col3, #T_ccf11_row47_col0, #T_ccf11_row47_col1, #T_ccf11_row48_col2, #T_ccf11_row49_col0, #T_ccf11_row50_col0, #T_ccf11_row51_col0, #T_ccf11_row51_col2, #T_ccf11_row52_col2, #T_ccf11_row53_col3 {\n",
       "  background-color: lightgreen;\n",
       "}\n",
       "</style>\n",
       "<table id=\"T_ccf11\">\n",
       "  <thead>\n",
       "    <tr>\n",
       "      <th class=\"blank level0\" >&nbsp;</th>\n",
       "      <th id=\"T_ccf11_level0_col0\" class=\"col_heading level0 col0\" >0</th>\n",
       "      <th id=\"T_ccf11_level0_col1\" class=\"col_heading level0 col1\" >1</th>\n",
       "      <th id=\"T_ccf11_level0_col2\" class=\"col_heading level0 col2\" >2</th>\n",
       "      <th id=\"T_ccf11_level0_col3\" class=\"col_heading level0 col3\" >3</th>\n",
       "      <th id=\"T_ccf11_level0_col4\" class=\"col_heading level0 col4\" >4</th>\n",
       "    </tr>\n",
       "  </thead>\n",
       "  <tbody>\n",
       "    <tr>\n",
       "      <th id=\"T_ccf11_level0_row0\" class=\"row_heading level0 row0\" >column1</th>\n",
       "      <td id=\"T_ccf11_row0_col0\" class=\"data row0 col0\" >40.6%</td>\n",
       "      <td id=\"T_ccf11_row0_col1\" class=\"data row0 col1\" >5.3%</td>\n",
       "      <td id=\"T_ccf11_row0_col2\" class=\"data row0 col2\" >8.2%</td>\n",
       "      <td id=\"T_ccf11_row0_col3\" class=\"data row0 col3\" >27.6%</td>\n",
       "      <td id=\"T_ccf11_row0_col4\" class=\"data row0 col4\" >18.2%</td>\n",
       "    </tr>\n",
       "    <tr>\n",
       "      <th id=\"T_ccf11_level0_row1\" class=\"row_heading level0 row1\" >column2</th>\n",
       "      <td id=\"T_ccf11_row1_col0\" class=\"data row1 col0\" >34.7%</td>\n",
       "      <td id=\"T_ccf11_row1_col1\" class=\"data row1 col1\" >13.5%</td>\n",
       "      <td id=\"T_ccf11_row1_col2\" class=\"data row1 col2\" >16.5%</td>\n",
       "      <td id=\"T_ccf11_row1_col3\" class=\"data row1 col3\" >22.4%</td>\n",
       "      <td id=\"T_ccf11_row1_col4\" class=\"data row1 col4\" >12.9%</td>\n",
       "    </tr>\n",
       "    <tr>\n",
       "      <th id=\"T_ccf11_level0_row2\" class=\"row_heading level0 row2\" >column3</th>\n",
       "      <td id=\"T_ccf11_row2_col0\" class=\"data row2 col0\" >30.0%</td>\n",
       "      <td id=\"T_ccf11_row2_col1\" class=\"data row2 col1\" >14.1%</td>\n",
       "      <td id=\"T_ccf11_row2_col2\" class=\"data row2 col2\" >15.3%</td>\n",
       "      <td id=\"T_ccf11_row2_col3\" class=\"data row2 col3\" >30.6%</td>\n",
       "      <td id=\"T_ccf11_row2_col4\" class=\"data row2 col4\" >10.0%</td>\n",
       "    </tr>\n",
       "    <tr>\n",
       "      <th id=\"T_ccf11_level0_row3\" class=\"row_heading level0 row3\" >Ellipsis</th>\n",
       "      <td id=\"T_ccf11_row3_col0\" class=\"data row3 col0\" >44.1%</td>\n",
       "      <td id=\"T_ccf11_row3_col1\" class=\"data row3 col1\" >7.1%</td>\n",
       "      <td id=\"T_ccf11_row3_col2\" class=\"data row3 col2\" >17.6%</td>\n",
       "      <td id=\"T_ccf11_row3_col3\" class=\"data row3 col3\" >18.8%</td>\n",
       "      <td id=\"T_ccf11_row3_col4\" class=\"data row3 col4\" >12.3%</td>\n",
       "    </tr>\n",
       "    <tr>\n",
       "      <th id=\"T_ccf11_level0_row4\" class=\"row_heading level0 row4\" >Special_time</th>\n",
       "      <td id=\"T_ccf11_row4_col0\" class=\"data row4 col0\" >48.2%</td>\n",
       "      <td id=\"T_ccf11_row4_col1\" class=\"data row4 col1\" >5.9%</td>\n",
       "      <td id=\"T_ccf11_row4_col2\" class=\"data row4 col2\" >4.7%</td>\n",
       "      <td id=\"T_ccf11_row4_col3\" class=\"data row4 col3\" >25.9%</td>\n",
       "      <td id=\"T_ccf11_row4_col4\" class=\"data row4 col4\" >15.3%</td>\n",
       "    </tr>\n",
       "    <tr>\n",
       "      <th id=\"T_ccf11_level0_row5\" class=\"row_heading level0 row5\" >No_home_time</th>\n",
       "      <td id=\"T_ccf11_row5_col0\" class=\"data row5 col0\" >50.6%</td>\n",
       "      <td id=\"T_ccf11_row5_col1\" class=\"data row5 col1\" >28.8%</td>\n",
       "      <td id=\"T_ccf11_row5_col2\" class=\"data row5 col2\" >17.1%</td>\n",
       "      <td id=\"T_ccf11_row5_col3\" class=\"data row5 col3\" >2.4%</td>\n",
       "      <td id=\"T_ccf11_row5_col4\" class=\"data row5 col4\" >1.2%</td>\n",
       "    </tr>\n",
       "    <tr>\n",
       "      <th id=\"T_ccf11_level0_row6\" class=\"row_heading level0 row6\" >2_strangers</th>\n",
       "      <td id=\"T_ccf11_row6_col0\" class=\"data row6 col0\" >67.1%</td>\n",
       "      <td id=\"T_ccf11_row6_col1\" class=\"data row6 col1\" >24.7%</td>\n",
       "      <td id=\"T_ccf11_row6_col2\" class=\"data row6 col2\" >2.9%</td>\n",
       "      <td id=\"T_ccf11_row6_col3\" class=\"data row6 col3\" >2.4%</td>\n",
       "      <td id=\"T_ccf11_row6_col4\" class=\"data row6 col4\" >2.9%</td>\n",
       "    </tr>\n",
       "    <tr>\n",
       "      <th id=\"T_ccf11_level0_row7\" class=\"row_heading level0 row7\" >enjoy_holiday</th>\n",
       "      <td id=\"T_ccf11_row7_col0\" class=\"data row7 col0\" >47.6%</td>\n",
       "      <td id=\"T_ccf11_row7_col1\" class=\"data row7 col1\" >5.9%</td>\n",
       "      <td id=\"T_ccf11_row7_col2\" class=\"data row7 col2\" >12.3%</td>\n",
       "      <td id=\"T_ccf11_row7_col3\" class=\"data row7 col3\" >21.8%</td>\n",
       "      <td id=\"T_ccf11_row7_col4\" class=\"data row7 col4\" >12.3%</td>\n",
       "    </tr>\n",
       "    <tr>\n",
       "      <th id=\"T_ccf11_level0_row8\" class=\"row_heading level0 row8\" >enjoy_travel</th>\n",
       "      <td id=\"T_ccf11_row8_col0\" class=\"data row8 col0\" >49.4%</td>\n",
       "      <td id=\"T_ccf11_row8_col1\" class=\"data row8 col1\" >4.1%</td>\n",
       "      <td id=\"T_ccf11_row8_col2\" class=\"data row8 col2\" >7.7%</td>\n",
       "      <td id=\"T_ccf11_row8_col3\" class=\"data row8 col3\" >28.8%</td>\n",
       "      <td id=\"T_ccf11_row8_col4\" class=\"data row8 col4\" >10.0%</td>\n",
       "    </tr>\n",
       "    <tr>\n",
       "      <th id=\"T_ccf11_level0_row9\" class=\"row_heading level0 row9\" >common_goals</th>\n",
       "      <td id=\"T_ccf11_row9_col0\" class=\"data row9 col0\" >36.5%</td>\n",
       "      <td id=\"T_ccf11_row9_col1\" class=\"data row9 col1\" >10.6%</td>\n",
       "      <td id=\"T_ccf11_row9_col2\" class=\"data row9 col2\" >22.4%</td>\n",
       "      <td id=\"T_ccf11_row9_col3\" class=\"data row9 col3\" >20.0%</td>\n",
       "      <td id=\"T_ccf11_row9_col4\" class=\"data row9 col4\" >10.6%</td>\n",
       "    </tr>\n",
       "    <tr>\n",
       "      <th id=\"T_ccf11_level0_row10\" class=\"row_heading level0 row10\" >harmony</th>\n",
       "      <td id=\"T_ccf11_row10_col0\" class=\"data row10 col0\" >41.8%</td>\n",
       "      <td id=\"T_ccf11_row10_col1\" class=\"data row10 col1\" >11.2%</td>\n",
       "      <td id=\"T_ccf11_row10_col2\" class=\"data row10 col2\" >2.4%</td>\n",
       "      <td id=\"T_ccf11_row10_col3\" class=\"data row10 col3\" >25.9%</td>\n",
       "      <td id=\"T_ccf11_row10_col4\" class=\"data row10 col4\" >18.8%</td>\n",
       "    </tr>\n",
       "    <tr>\n",
       "      <th id=\"T_ccf11_level0_row11\" class=\"row_heading level0 row11\" >freeom_value</th>\n",
       "      <td id=\"T_ccf11_row11_col0\" class=\"data row11 col0\" >34.1%</td>\n",
       "      <td id=\"T_ccf11_row11_col1\" class=\"data row11 col1\" >15.9%</td>\n",
       "      <td id=\"T_ccf11_row11_col2\" class=\"data row11 col2\" >12.9%</td>\n",
       "      <td id=\"T_ccf11_row11_col3\" class=\"data row11 col3\" >24.7%</td>\n",
       "      <td id=\"T_ccf11_row11_col4\" class=\"data row11 col4\" >12.3%</td>\n",
       "    </tr>\n",
       "    <tr>\n",
       "      <th id=\"T_ccf11_level0_row12\" class=\"row_heading level0 row12\" >entertain</th>\n",
       "      <td id=\"T_ccf11_row12_col0\" class=\"data row12 col0\" >27.6%</td>\n",
       "      <td id=\"T_ccf11_row12_col1\" class=\"data row12 col1\" >19.4%</td>\n",
       "      <td id=\"T_ccf11_row12_col2\" class=\"data row12 col2\" >10.6%</td>\n",
       "      <td id=\"T_ccf11_row12_col3\" class=\"data row12 col3\" >26.5%</td>\n",
       "      <td id=\"T_ccf11_row12_col4\" class=\"data row12 col4\" >15.9%</td>\n",
       "    </tr>\n",
       "    <tr>\n",
       "      <th id=\"T_ccf11_level0_row13\" class=\"row_heading level0 row13\" >people_goals</th>\n",
       "      <td id=\"T_ccf11_row13_col0\" class=\"data row13 col0\" >38.8%</td>\n",
       "      <td id=\"T_ccf11_row13_col1\" class=\"data row13 col1\" >13.5%</td>\n",
       "      <td id=\"T_ccf11_row13_col2\" class=\"data row13 col2\" >12.3%</td>\n",
       "      <td id=\"T_ccf11_row13_col3\" class=\"data row13 col3\" >22.4%</td>\n",
       "      <td id=\"T_ccf11_row13_col4\" class=\"data row13 col4\" >12.9%</td>\n",
       "    </tr>\n",
       "    <tr>\n",
       "      <th id=\"T_ccf11_level0_row14\" class=\"row_heading level0 row14\" >dreams</th>\n",
       "      <td id=\"T_ccf11_row14_col0\" class=\"data row14 col0\" >40.6%</td>\n",
       "      <td id=\"T_ccf11_row14_col1\" class=\"data row14 col1\" >11.8%</td>\n",
       "      <td id=\"T_ccf11_row14_col2\" class=\"data row14 col2\" >7.7%</td>\n",
       "      <td id=\"T_ccf11_row14_col3\" class=\"data row14 col3\" >30.0%</td>\n",
       "      <td id=\"T_ccf11_row14_col4\" class=\"data row14 col4\" >10.0%</td>\n",
       "    </tr>\n",
       "    <tr>\n",
       "      <th id=\"T_ccf11_level0_row15\" class=\"row_heading level0 row15\" >love</th>\n",
       "      <td id=\"T_ccf11_row15_col0\" class=\"data row15 col0\" >44.1%</td>\n",
       "      <td id=\"T_ccf11_row15_col1\" class=\"data row15 col1\" >8.2%</td>\n",
       "      <td id=\"T_ccf11_row15_col2\" class=\"data row15 col2\" >15.3%</td>\n",
       "      <td id=\"T_ccf11_row15_col3\" class=\"data row15 col3\" >20.6%</td>\n",
       "      <td id=\"T_ccf11_row15_col4\" class=\"data row15 col4\" >11.8%</td>\n",
       "    </tr>\n",
       "    <tr>\n",
       "      <th id=\"T_ccf11_level0_row16\" class=\"row_heading level0 row16\" >happy</th>\n",
       "      <td id=\"T_ccf11_row16_col0\" class=\"data row16 col0\" >42.9%</td>\n",
       "      <td id=\"T_ccf11_row16_col1\" class=\"data row16 col1\" >8.8%</td>\n",
       "      <td id=\"T_ccf11_row16_col2\" class=\"data row16 col2\" >3.5%</td>\n",
       "      <td id=\"T_ccf11_row16_col3\" class=\"data row16 col3\" >29.4%</td>\n",
       "      <td id=\"T_ccf11_row16_col4\" class=\"data row16 col4\" >15.3%</td>\n",
       "    </tr>\n",
       "    <tr>\n",
       "      <th id=\"T_ccf11_level0_row17\" class=\"row_heading level0 row17\" >marriage</th>\n",
       "      <td id=\"T_ccf11_row17_col0\" class=\"data row17 col0\" >46.5%</td>\n",
       "      <td id=\"T_ccf11_row17_col1\" class=\"data row17 col1\" >5.9%</td>\n",
       "      <td id=\"T_ccf11_row17_col2\" class=\"data row17 col2\" >9.4%</td>\n",
       "      <td id=\"T_ccf11_row17_col3\" class=\"data row17 col3\" >25.9%</td>\n",
       "      <td id=\"T_ccf11_row17_col4\" class=\"data row17 col4\" >12.3%</td>\n",
       "    </tr>\n",
       "    <tr>\n",
       "      <th id=\"T_ccf11_level0_row18\" class=\"row_heading level0 row18\" >roles</th>\n",
       "      <td id=\"T_ccf11_row18_col0\" class=\"data row18 col0\" >45.3%</td>\n",
       "      <td id=\"T_ccf11_row18_col1\" class=\"data row18 col1\" >6.5%</td>\n",
       "      <td id=\"T_ccf11_row18_col2\" class=\"data row18 col2\" >2.9%</td>\n",
       "      <td id=\"T_ccf11_row18_col3\" class=\"data row18 col3\" >29.4%</td>\n",
       "      <td id=\"T_ccf11_row18_col4\" class=\"data row18 col4\" >15.9%</td>\n",
       "    </tr>\n",
       "    <tr>\n",
       "      <th id=\"T_ccf11_level0_row19\" class=\"row_heading level0 row19\" >trust</th>\n",
       "      <td id=\"T_ccf11_row19_col0\" class=\"data row19 col0\" >47.6%</td>\n",
       "      <td id=\"T_ccf11_row19_col1\" class=\"data row19 col1\" >5.9%</td>\n",
       "      <td id=\"T_ccf11_row19_col2\" class=\"data row19 col2\" >12.3%</td>\n",
       "      <td id=\"T_ccf11_row19_col3\" class=\"data row19 col3\" >21.2%</td>\n",
       "      <td id=\"T_ccf11_row19_col4\" class=\"data row19 col4\" >12.9%</td>\n",
       "    </tr>\n",
       "    <tr>\n",
       "      <th id=\"T_ccf11_level0_row20\" class=\"row_heading level0 row20\" >likes</th>\n",
       "      <td id=\"T_ccf11_row20_col0\" class=\"data row20 col0\" >45.9%</td>\n",
       "      <td id=\"T_ccf11_row20_col1\" class=\"data row20 col1\" >10.0%</td>\n",
       "      <td id=\"T_ccf11_row20_col2\" class=\"data row20 col2\" >10.0%</td>\n",
       "      <td id=\"T_ccf11_row20_col3\" class=\"data row20 col3\" >27.6%</td>\n",
       "      <td id=\"T_ccf11_row20_col4\" class=\"data row20 col4\" >6.5%</td>\n",
       "    </tr>\n",
       "    <tr>\n",
       "      <th id=\"T_ccf11_level0_row21\" class=\"row_heading level0 row21\" >care_sick</th>\n",
       "      <td id=\"T_ccf11_row21_col0\" class=\"data row21 col0\" >51.2%</td>\n",
       "      <td id=\"T_ccf11_row21_col1\" class=\"data row21 col1\" >7.7%</td>\n",
       "      <td id=\"T_ccf11_row21_col2\" class=\"data row21 col2\" >15.3%</td>\n",
       "      <td id=\"T_ccf11_row21_col3\" class=\"data row21 col3\" >17.1%</td>\n",
       "      <td id=\"T_ccf11_row21_col4\" class=\"data row21 col4\" >8.8%</td>\n",
       "    </tr>\n",
       "    <tr>\n",
       "      <th id=\"T_ccf11_level0_row22\" class=\"row_heading level0 row22\" >fav_food</th>\n",
       "      <td id=\"T_ccf11_row22_col0\" class=\"data row22 col0\" >52.9%</td>\n",
       "      <td id=\"T_ccf11_row22_col1\" class=\"data row22 col1\" >4.1%</td>\n",
       "      <td id=\"T_ccf11_row22_col2\" class=\"data row22 col2\" >4.7%</td>\n",
       "      <td id=\"T_ccf11_row22_col3\" class=\"data row22 col3\" >25.3%</td>\n",
       "      <td id=\"T_ccf11_row22_col4\" class=\"data row22 col4\" >12.9%</td>\n",
       "    </tr>\n",
       "    <tr>\n",
       "      <th id=\"T_ccf11_level0_row23\" class=\"row_heading level0 row23\" >stresses</th>\n",
       "      <td id=\"T_ccf11_row23_col0\" class=\"data row23 col0\" >42.4%</td>\n",
       "      <td id=\"T_ccf11_row23_col1\" class=\"data row23 col1\" >9.4%</td>\n",
       "      <td id=\"T_ccf11_row23_col2\" class=\"data row23 col2\" >15.3%</td>\n",
       "      <td id=\"T_ccf11_row23_col3\" class=\"data row23 col3\" >20.6%</td>\n",
       "      <td id=\"T_ccf11_row23_col4\" class=\"data row23 col4\" >12.3%</td>\n",
       "    </tr>\n",
       "    <tr>\n",
       "      <th id=\"T_ccf11_level0_row24\" class=\"row_heading level0 row24\" >inner_world</th>\n",
       "      <td id=\"T_ccf11_row24_col0\" class=\"data row24 col0\" >37.1%</td>\n",
       "      <td id=\"T_ccf11_row24_col1\" class=\"data row24 col1\" >16.5%</td>\n",
       "      <td id=\"T_ccf11_row24_col2\" class=\"data row24 col2\" >7.1%</td>\n",
       "      <td id=\"T_ccf11_row24_col3\" class=\"data row24 col3\" >25.3%</td>\n",
       "      <td id=\"T_ccf11_row24_col4\" class=\"data row24 col4\" >14.1%</td>\n",
       "    </tr>\n",
       "    <tr>\n",
       "      <th id=\"T_ccf11_level0_row25\" class=\"row_heading level0 row25\" >anxieties</th>\n",
       "      <td id=\"T_ccf11_row25_col0\" class=\"data row25 col0\" >42.4%</td>\n",
       "      <td id=\"T_ccf11_row25_col1\" class=\"data row25 col1\" >11.8%</td>\n",
       "      <td id=\"T_ccf11_row25_col2\" class=\"data row25 col2\" >12.3%</td>\n",
       "      <td id=\"T_ccf11_row25_col3\" class=\"data row25 col3\" >21.8%</td>\n",
       "      <td id=\"T_ccf11_row25_col4\" class=\"data row25 col4\" >11.8%</td>\n",
       "    </tr>\n",
       "    <tr>\n",
       "      <th id=\"T_ccf11_level0_row26\" class=\"row_heading level0 row26\" >current_stress</th>\n",
       "      <td id=\"T_ccf11_row26_col0\" class=\"data row26 col0\" >45.3%</td>\n",
       "      <td id=\"T_ccf11_row26_col1\" class=\"data row26 col1\" >10.6%</td>\n",
       "      <td id=\"T_ccf11_row26_col2\" class=\"data row26 col2\" >10.0%</td>\n",
       "      <td id=\"T_ccf11_row26_col3\" class=\"data row26 col3\" >27.1%</td>\n",
       "      <td id=\"T_ccf11_row26_col4\" class=\"data row26 col4\" >7.1%</td>\n",
       "    </tr>\n",
       "    <tr>\n",
       "      <th id=\"T_ccf11_level0_row27\" class=\"row_heading level0 row27\" >hopes_wishes</th>\n",
       "      <td id=\"T_ccf11_row27_col0\" class=\"data row27 col0\" >50.0%</td>\n",
       "      <td id=\"T_ccf11_row27_col1\" class=\"data row27 col1\" >5.9%</td>\n",
       "      <td id=\"T_ccf11_row27_col2\" class=\"data row27 col2\" >17.6%</td>\n",
       "      <td id=\"T_ccf11_row27_col3\" class=\"data row27 col3\" >16.5%</td>\n",
       "      <td id=\"T_ccf11_row27_col4\" class=\"data row27 col4\" >10.0%</td>\n",
       "    </tr>\n",
       "    <tr>\n",
       "      <th id=\"T_ccf11_level0_row28\" class=\"row_heading level0 row28\" >know_well</th>\n",
       "      <td id=\"T_ccf11_row28_col0\" class=\"data row28 col0\" >47.6%</td>\n",
       "      <td id=\"T_ccf11_row28_col1\" class=\"data row28 col1\" >7.7%</td>\n",
       "      <td id=\"T_ccf11_row28_col2\" class=\"data row28 col2\" >5.9%</td>\n",
       "      <td id=\"T_ccf11_row28_col3\" class=\"data row28 col3\" >25.3%</td>\n",
       "      <td id=\"T_ccf11_row28_col4\" class=\"data row28 col4\" >13.5%</td>\n",
       "    </tr>\n",
       "    <tr>\n",
       "      <th id=\"T_ccf11_level0_row29\" class=\"row_heading level0 row29\" >friends_social</th>\n",
       "      <td id=\"T_ccf11_row29_col0\" class=\"data row29 col0\" >42.4%</td>\n",
       "      <td id=\"T_ccf11_row29_col1\" class=\"data row29 col1\" >11.2%</td>\n",
       "      <td id=\"T_ccf11_row29_col2\" class=\"data row29 col2\" >13.5%</td>\n",
       "      <td id=\"T_ccf11_row29_col3\" class=\"data row29 col3\" >20.6%</td>\n",
       "      <td id=\"T_ccf11_row29_col4\" class=\"data row29 col4\" >12.3%</td>\n",
       "    </tr>\n",
       "    <tr>\n",
       "      <th id=\"T_ccf11_level0_row30\" class=\"row_heading level0 row30\" >Aggro_argue</th>\n",
       "      <td id=\"T_ccf11_row30_col0\" class=\"data row30 col0\" >25.9%</td>\n",
       "      <td id=\"T_ccf11_row30_col1\" class=\"data row30 col1\" >16.5%</td>\n",
       "      <td id=\"T_ccf11_row30_col2\" class=\"data row30 col2\" >12.3%</td>\n",
       "      <td id=\"T_ccf11_row30_col3\" class=\"data row30 col3\" >10.0%</td>\n",
       "      <td id=\"T_ccf11_row30_col4\" class=\"data row30 col4\" >35.3%</td>\n",
       "    </tr>\n",
       "    <tr>\n",
       "      <th id=\"T_ccf11_level0_row31\" class=\"row_heading level0 row31\" >Always_never</th>\n",
       "      <td id=\"T_ccf11_row31_col0\" class=\"data row31 col0\" >27.1%</td>\n",
       "      <td id=\"T_ccf11_row31_col1\" class=\"data row31 col1\" >17.6%</td>\n",
       "      <td id=\"T_ccf11_row31_col2\" class=\"data row31 col2\" >7.1%</td>\n",
       "      <td id=\"T_ccf11_row31_col3\" class=\"data row31 col3\" >18.8%</td>\n",
       "      <td id=\"T_ccf11_row31_col4\" class=\"data row31 col4\" >29.4%</td>\n",
       "    </tr>\n",
       "    <tr>\n",
       "      <th id=\"T_ccf11_level0_row32\" class=\"row_heading level0 row32\" >negative_personality</th>\n",
       "      <td id=\"T_ccf11_row32_col0\" class=\"data row32 col0\" >41.8%</td>\n",
       "      <td id=\"T_ccf11_row32_col1\" class=\"data row32 col1\" >11.8%</td>\n",
       "      <td id=\"T_ccf11_row32_col2\" class=\"data row32 col2\" >3.5%</td>\n",
       "      <td id=\"T_ccf11_row32_col3\" class=\"data row32 col3\" >10.0%</td>\n",
       "      <td id=\"T_ccf11_row32_col4\" class=\"data row32 col4\" >32.9%</td>\n",
       "    </tr>\n",
       "    <tr>\n",
       "      <th id=\"T_ccf11_level0_row33\" class=\"row_heading level0 row33\" >offensive_expressions</th>\n",
       "      <td id=\"T_ccf11_row33_col0\" class=\"data row33 col0\" >29.4%</td>\n",
       "      <td id=\"T_ccf11_row33_col1\" class=\"data row33 col1\" >21.8%</td>\n",
       "      <td id=\"T_ccf11_row33_col2\" class=\"data row33 col2\" >5.9%</td>\n",
       "      <td id=\"T_ccf11_row33_col3\" class=\"data row33 col3\" >15.3%</td>\n",
       "      <td id=\"T_ccf11_row33_col4\" class=\"data row33 col4\" >27.6%</td>\n",
       "    </tr>\n",
       "    <tr>\n",
       "      <th id=\"T_ccf11_level0_row34\" class=\"row_heading level0 row34\" >insult</th>\n",
       "      <td id=\"T_ccf11_row34_col0\" class=\"data row34 col0\" >50.0%</td>\n",
       "      <td id=\"T_ccf11_row34_col1\" class=\"data row34 col1\" >7.7%</td>\n",
       "      <td id=\"T_ccf11_row34_col2\" class=\"data row34 col2\" >0.6%</td>\n",
       "      <td id=\"T_ccf11_row34_col3\" class=\"data row34 col3\" >8.8%</td>\n",
       "      <td id=\"T_ccf11_row34_col4\" class=\"data row34 col4\" >32.9%</td>\n",
       "    </tr>\n",
       "    <tr>\n",
       "      <th id=\"T_ccf11_level0_row35\" class=\"row_heading level0 row35\" >humiliate</th>\n",
       "      <td id=\"T_ccf11_row35_col0\" class=\"data row35 col0\" >51.8%</td>\n",
       "      <td id=\"T_ccf11_row35_col1\" class=\"data row35 col1\" >5.3%</td>\n",
       "      <td id=\"T_ccf11_row35_col2\" class=\"data row35 col2\" >1.2%</td>\n",
       "      <td id=\"T_ccf11_row35_col3\" class=\"data row35 col3\" >14.1%</td>\n",
       "      <td id=\"T_ccf11_row35_col4\" class=\"data row35 col4\" >27.6%</td>\n",
       "    </tr>\n",
       "    <tr>\n",
       "      <th id=\"T_ccf11_level0_row36\" class=\"row_heading level0 row36\" >not_calm</th>\n",
       "      <td id=\"T_ccf11_row36_col0\" class=\"data row36 col0\" >28.8%</td>\n",
       "      <td id=\"T_ccf11_row36_col1\" class=\"data row36 col1\" >18.2%</td>\n",
       "      <td id=\"T_ccf11_row36_col2\" class=\"data row36 col2\" >5.9%</td>\n",
       "      <td id=\"T_ccf11_row36_col3\" class=\"data row36 col3\" >9.4%</td>\n",
       "      <td id=\"T_ccf11_row36_col4\" class=\"data row36 col4\" >37.6%</td>\n",
       "    </tr>\n",
       "    <tr>\n",
       "      <th id=\"T_ccf11_level0_row37\" class=\"row_heading level0 row37\" >hate_subjects</th>\n",
       "      <td id=\"T_ccf11_row37_col0\" class=\"data row37 col0\" >37.6%</td>\n",
       "      <td id=\"T_ccf11_row37_col1\" class=\"data row37 col1\" >14.1%</td>\n",
       "      <td id=\"T_ccf11_row37_col2\" class=\"data row37 col2\" >3.5%</td>\n",
       "      <td id=\"T_ccf11_row37_col3\" class=\"data row37 col3\" >14.1%</td>\n",
       "      <td id=\"T_ccf11_row37_col4\" class=\"data row37 col4\" >30.6%</td>\n",
       "    </tr>\n",
       "    <tr>\n",
       "      <th id=\"T_ccf11_level0_row38\" class=\"row_heading level0 row38\" >sudden_discussion</th>\n",
       "      <td id=\"T_ccf11_row38_col0\" class=\"data row38 col0\" >29.4%</td>\n",
       "      <td id=\"T_ccf11_row38_col1\" class=\"data row38 col1\" >16.5%</td>\n",
       "      <td id=\"T_ccf11_row38_col2\" class=\"data row38 col2\" >8.2%</td>\n",
       "      <td id=\"T_ccf11_row38_col3\" class=\"data row38 col3\" >7.7%</td>\n",
       "      <td id=\"T_ccf11_row38_col4\" class=\"data row38 col4\" >38.2%</td>\n",
       "    </tr>\n",
       "    <tr>\n",
       "      <th id=\"T_ccf11_level0_row39\" class=\"row_heading level0 row39\" >idk_what's_going_on</th>\n",
       "      <td id=\"T_ccf11_row39_col0\" class=\"data row39 col0\" >42.4%</td>\n",
       "      <td id=\"T_ccf11_row39_col1\" class=\"data row39 col1\" >7.7%</td>\n",
       "      <td id=\"T_ccf11_row39_col2\" class=\"data row39 col2\" >3.5%</td>\n",
       "      <td id=\"T_ccf11_row39_col3\" class=\"data row39 col3\" >13.5%</td>\n",
       "      <td id=\"T_ccf11_row39_col4\" class=\"data row39 col4\" >32.9%</td>\n",
       "    </tr>\n",
       "    <tr>\n",
       "      <th id=\"T_ccf11_level0_row40\" class=\"row_heading level0 row40\" >calm_breaks</th>\n",
       "      <td id=\"T_ccf11_row40_col0\" class=\"data row40 col0\" >32.4%</td>\n",
       "      <td id=\"T_ccf11_row40_col1\" class=\"data row40 col1\" >15.3%</td>\n",
       "      <td id=\"T_ccf11_row40_col2\" class=\"data row40 col2\" >8.2%</td>\n",
       "      <td id=\"T_ccf11_row40_col3\" class=\"data row40 col3\" >8.8%</td>\n",
       "      <td id=\"T_ccf11_row40_col4\" class=\"data row40 col4\" >35.3%</td>\n",
       "    </tr>\n",
       "    <tr>\n",
       "      <th id=\"T_ccf11_level0_row41\" class=\"row_heading level0 row41\" >argue_then_leave</th>\n",
       "      <td id=\"T_ccf11_row41_col0\" class=\"data row41 col0\" >25.9%</td>\n",
       "      <td id=\"T_ccf11_row41_col1\" class=\"data row41 col1\" >10.0%</td>\n",
       "      <td id=\"T_ccf11_row41_col2\" class=\"data row41 col2\" >15.3%</td>\n",
       "      <td id=\"T_ccf11_row41_col3\" class=\"data row41 col3\" >20.0%</td>\n",
       "      <td id=\"T_ccf11_row41_col4\" class=\"data row41 col4\" >28.8%</td>\n",
       "    </tr>\n",
       "    <tr>\n",
       "      <th id=\"T_ccf11_level0_row42\" class=\"row_heading level0 row42\" >silent_for_calm</th>\n",
       "      <td id=\"T_ccf11_row42_col0\" class=\"data row42 col0\" >9.4%</td>\n",
       "      <td id=\"T_ccf11_row42_col1\" class=\"data row42 col1\" >11.2%</td>\n",
       "      <td id=\"T_ccf11_row42_col2\" class=\"data row42 col2\" >19.4%</td>\n",
       "      <td id=\"T_ccf11_row42_col3\" class=\"data row42 col3\" >19.4%</td>\n",
       "      <td id=\"T_ccf11_row42_col4\" class=\"data row42 col4\" >40.6%</td>\n",
       "    </tr>\n",
       "    <tr>\n",
       "      <th id=\"T_ccf11_level0_row43\" class=\"row_heading level0 row43\" >good_to_leave_home</th>\n",
       "      <td id=\"T_ccf11_row43_col0\" class=\"data row43 col0\" >35.3%</td>\n",
       "      <td id=\"T_ccf11_row43_col1\" class=\"data row43 col1\" >9.4%</td>\n",
       "      <td id=\"T_ccf11_row43_col2\" class=\"data row43 col2\" >10.0%</td>\n",
       "      <td id=\"T_ccf11_row43_col3\" class=\"data row43 col3\" >16.5%</td>\n",
       "      <td id=\"T_ccf11_row43_col4\" class=\"data row43 col4\" >28.8%</td>\n",
       "    </tr>\n",
       "    <tr>\n",
       "      <th id=\"T_ccf11_level0_row44\" class=\"row_heading level0 row44\" >silence_instead_of_discussion</th>\n",
       "      <td id=\"T_ccf11_row44_col0\" class=\"data row44 col0\" >16.5%</td>\n",
       "      <td id=\"T_ccf11_row44_col1\" class=\"data row44 col1\" >14.1%</td>\n",
       "      <td id=\"T_ccf11_row44_col2\" class=\"data row44 col2\" >12.3%</td>\n",
       "      <td id=\"T_ccf11_row44_col3\" class=\"data row44 col3\" >21.2%</td>\n",
       "      <td id=\"T_ccf11_row44_col4\" class=\"data row44 col4\" >35.9%</td>\n",
       "    </tr>\n",
       "    <tr>\n",
       "      <th id=\"T_ccf11_level0_row45\" class=\"row_heading level0 row45\" >silence_for_harm</th>\n",
       "      <td id=\"T_ccf11_row45_col0\" class=\"data row45 col0\" >12.9%</td>\n",
       "      <td id=\"T_ccf11_row45_col1\" class=\"data row45 col1\" >10.6%</td>\n",
       "      <td id=\"T_ccf11_row45_col2\" class=\"data row45 col2\" >16.5%</td>\n",
       "      <td id=\"T_ccf11_row45_col3\" class=\"data row45 col3\" >28.2%</td>\n",
       "      <td id=\"T_ccf11_row45_col4\" class=\"data row45 col4\" >31.8%</td>\n",
       "    </tr>\n",
       "    <tr>\n",
       "      <th id=\"T_ccf11_level0_row46\" class=\"row_heading level0 row46\" >silence_fear_anger</th>\n",
       "      <td id=\"T_ccf11_row46_col0\" class=\"data row46 col0\" >19.4%</td>\n",
       "      <td id=\"T_ccf11_row46_col1\" class=\"data row46 col1\" >20.0%</td>\n",
       "      <td id=\"T_ccf11_row46_col2\" class=\"data row46 col2\" >11.8%</td>\n",
       "      <td id=\"T_ccf11_row46_col3\" class=\"data row46 col3\" >11.8%</td>\n",
       "      <td id=\"T_ccf11_row46_col4\" class=\"data row46 col4\" >37.1%</td>\n",
       "    </tr>\n",
       "    <tr>\n",
       "      <th id=\"T_ccf11_level0_row47\" class=\"row_heading level0 row47\" >I'm_right</th>\n",
       "      <td id=\"T_ccf11_row47_col0\" class=\"data row47 col0\" >5.9%</td>\n",
       "      <td id=\"T_ccf11_row47_col1\" class=\"data row47 col1\" >5.9%</td>\n",
       "      <td id=\"T_ccf11_row47_col2\" class=\"data row47 col2\" >27.6%</td>\n",
       "      <td id=\"T_ccf11_row47_col3\" class=\"data row47 col3\" >29.4%</td>\n",
       "      <td id=\"T_ccf11_row47_col4\" class=\"data row47 col4\" >31.2%</td>\n",
       "    </tr>\n",
       "    <tr>\n",
       "      <th id=\"T_ccf11_level0_row48\" class=\"row_heading level0 row48\" >accusations</th>\n",
       "      <td id=\"T_ccf11_row48_col0\" class=\"data row48 col0\" >16.5%</td>\n",
       "      <td id=\"T_ccf11_row48_col1\" class=\"data row48 col1\" >16.5%</td>\n",
       "      <td id=\"T_ccf11_row48_col2\" class=\"data row48 col2\" >15.3%</td>\n",
       "      <td id=\"T_ccf11_row48_col3\" class=\"data row48 col3\" >15.9%</td>\n",
       "      <td id=\"T_ccf11_row48_col4\" class=\"data row48 col4\" >35.9%</td>\n",
       "    </tr>\n",
       "    <tr>\n",
       "      <th id=\"T_ccf11_level0_row49\" class=\"row_heading level0 row49\" >I'm_not_guilty</th>\n",
       "      <td id=\"T_ccf11_row49_col0\" class=\"data row49 col0\" >11.2%</td>\n",
       "      <td id=\"T_ccf11_row49_col1\" class=\"data row49 col1\" >18.2%</td>\n",
       "      <td id=\"T_ccf11_row49_col2\" class=\"data row49 col2\" >21.2%</td>\n",
       "      <td id=\"T_ccf11_row49_col3\" class=\"data row49 col3\" >15.3%</td>\n",
       "      <td id=\"T_ccf11_row49_col4\" class=\"data row49 col4\" >34.1%</td>\n",
       "    </tr>\n",
       "    <tr>\n",
       "      <th id=\"T_ccf11_level0_row50\" class=\"row_heading level0 row50\" >I'm_not_wrong</th>\n",
       "      <td id=\"T_ccf11_row50_col0\" class=\"data row50 col0\" >7.1%</td>\n",
       "      <td id=\"T_ccf11_row50_col1\" class=\"data row50 col1\" >17.1%</td>\n",
       "      <td id=\"T_ccf11_row50_col2\" class=\"data row50 col2\" >25.3%</td>\n",
       "      <td id=\"T_ccf11_row50_col3\" class=\"data row50 col3\" >22.4%</td>\n",
       "      <td id=\"T_ccf11_row50_col4\" class=\"data row50 col4\" >28.2%</td>\n",
       "    </tr>\n",
       "    <tr>\n",
       "      <th id=\"T_ccf11_level0_row51\" class=\"row_heading level0 row51\" >no_hesitancy_inadequate</th>\n",
       "      <td id=\"T_ccf11_row51_col0\" class=\"data row51 col0\" >13.5%</td>\n",
       "      <td id=\"T_ccf11_row51_col1\" class=\"data row51 col1\" >16.5%</td>\n",
       "      <td id=\"T_ccf11_row51_col2\" class=\"data row51 col2\" >13.5%</td>\n",
       "      <td id=\"T_ccf11_row51_col3\" class=\"data row51 col3\" >17.6%</td>\n",
       "      <td id=\"T_ccf11_row51_col4\" class=\"data row51 col4\" >38.8%</td>\n",
       "    </tr>\n",
       "    <tr>\n",
       "      <th id=\"T_ccf11_level0_row52\" class=\"row_heading level0 row52\" >you're_inadequate</th>\n",
       "      <td id=\"T_ccf11_row52_col0\" class=\"data row52 col0\" >18.2%</td>\n",
       "      <td id=\"T_ccf11_row52_col1\" class=\"data row52 col1\" >18.2%</td>\n",
       "      <td id=\"T_ccf11_row52_col2\" class=\"data row52 col2\" >15.3%</td>\n",
       "      <td id=\"T_ccf11_row52_col3\" class=\"data row52 col3\" >17.6%</td>\n",
       "      <td id=\"T_ccf11_row52_col4\" class=\"data row52 col4\" >30.6%</td>\n",
       "    </tr>\n",
       "    <tr>\n",
       "      <th id=\"T_ccf11_level0_row53\" class=\"row_heading level0 row53\" >incompetence</th>\n",
       "      <td id=\"T_ccf11_row53_col0\" class=\"data row53 col0\" >29.4%</td>\n",
       "      <td id=\"T_ccf11_row53_col1\" class=\"data row53 col1\" >15.9%</td>\n",
       "      <td id=\"T_ccf11_row53_col2\" class=\"data row53 col2\" >12.3%</td>\n",
       "      <td id=\"T_ccf11_row53_col3\" class=\"data row53 col3\" >8.8%</td>\n",
       "      <td id=\"T_ccf11_row53_col4\" class=\"data row53 col4\" >33.5%</td>\n",
       "    </tr>\n",
       "  </tbody>\n",
       "</table>\n"
      ],
      "text/plain": [
       "<pandas.io.formats.style.Styler at 0x27776333b80>"
      ]
     },
     "execution_count": 7,
     "metadata": {},
     "output_type": "execute_result"
    }
   ],
   "source": [
    "# Define list of column names\n",
    "que = ['column1', 'column2', 'column3', ...]\n",
    "\n",
    "# Descriptive statistics\n",
    "values = dict()\n",
    "que_cols = df.drop('Divorce_Y_N',axis=1).columns\n",
    "for c in que_cols:\n",
    "    values[c] = dict(round(df[c].value_counts(normalize=True)*100,2))\n",
    "    \n",
    "que_rate_df = pd.DataFrame(values).rename(columns=dict(zip(que_cols,que))).T\n",
    "que_rate_df = que_rate_df[range(5)]\n",
    "\n",
    "print(\" -> Yellow highlighted cells indicates the max percentage of people given that rating\")\n",
    "print(\" -> Green highlighted cells indicates the min percentage of people given that rating\")\n",
    "# Highlighting the max & min value\n",
    "que_rate_df.style\\\n",
    "      .format('{:.1f}%')\\\n",
    "      .highlight_max(color = 'yellow',axis=1)\\\n",
    "      .highlight_min(color = 'lightgreen',axis=1)"
   ]
  },
  {
   "cell_type": "markdown",
   "id": "b2b8e5bc",
   "metadata": {
    "papermill": {
     "duration": 0.036023,
     "end_time": "2021-12-25T14:49:37.143936",
     "exception": false,
     "start_time": "2021-12-25T14:49:37.107913",
     "status": "completed"
    },
    "tags": []
   },
   "source": [
    "#### How to infer from the above summary?\n",
    "\n",
    "For last question - **I'm not afraid to tell my spouse about her/his incompetence** - **33.5% people rated 4 while 8.8% people rated 3**"
   ]
  },
  {
   "cell_type": "code",
   "execution_count": 8,
   "id": "ab1c3750",
   "metadata": {
    "papermill": {
     "duration": 2.407246,
     "end_time": "2021-12-25T14:49:39.588504",
     "exception": false,
     "start_time": "2021-12-25T14:49:37.181258",
     "status": "completed"
    },
    "tags": []
   },
   "outputs": [
    {
     "data": {
      "text/plain": [
       "Text(0.5, 1.0, 'Correlation value between ratings given for questions')"
      ]
     },
     "execution_count": 8,
     "metadata": {},
     "output_type": "execute_result"
    },
    {
     "data": {
      "image/png": "[encoded data removed]",
      "text/plain": [
       "<Figure size 1080x864 with 2 Axes>"
      ]
     },
     "metadata": {
      "needs_background": "light"
     },
     "output_type": "display_data"
    }
   ],
   "source": [
    "# Correlation study\n",
    "plt.figure(figsize=(15,12))\n",
    "sns.heatmap(df.corr(),cmap='Spectral')\n",
    "plt.title(\"Correlation value between ratings given for questions\")"
   ]
  },
  {
   "cell_type": "markdown",
   "id": "fc0599ff",
   "metadata": {
    "papermill": {
     "duration": 0.041906,
     "end_time": "2021-12-25T14:49:39.673245",
     "exception": false,
     "start_time": "2021-12-25T14:49:39.631339",
     "status": "completed"
    },
    "tags": []
   },
   "source": [
    "Since most of the features are correlated with each other, its better to factor analysis"
   ]
  },
  {
   "cell_type": "markdown",
   "id": "c60c66e1",
   "metadata": {
    "papermill": {
     "duration": 0.041517,
     "end_time": "2021-12-25T14:49:39.755642",
     "exception": false,
     "start_time": "2021-12-25T14:49:39.714125",
     "status": "completed"
    },
    "tags": []
   },
   "source": [
    "### Factor Analysis\n",
    "\n",
    "Factor analysis is a linear statistical model, that is used to explain the variance among the observed variable and condense a set of the observed variable into the unobserved variable called factors. Observed variables are modeled as a linear combination of factors and error terms. Factor or latent variable is associated with multiple observed variables, who have common patterns of responses. Each factor explains a particular amount of variance in the observed variables. It helps in data interpretations by reducing the number of variables. ([Source](https://www.datacamp.com/community/tutorials/introduction-factor-analysis))"
   ]
  },
  {
   "cell_type": "markdown",
   "id": "ac7cd754",
   "metadata": {
    "papermill": {
     "duration": 0.041924,
     "end_time": "2021-12-25T14:49:39.838978",
     "exception": false,
     "start_time": "2021-12-25T14:49:39.797054",
     "status": "completed"
    },
    "tags": []
   },
   "source": [
    "### Why Factor Analysis and not PCA?"
   ]
  },
  {
   "cell_type": "markdown",
   "id": "f502d45b",
   "metadata": {
    "papermill": {
     "duration": 0.040931,
     "end_time": "2021-12-25T14:49:39.922284",
     "exception": false,
     "start_time": "2021-12-25T14:49:39.881353",
     "status": "completed"
    },
    "tags": []
   },
   "source": [
    "1. Both Principal Components Analysis (PCA) and Factor Analysis are dimension reduction techniques.\n",
    "2. Principal Component analysis makes the components that are completely orthogonal to each other whereas Factor analysis does not require such the factors to be orthogonal\n",
    "3. Principal Components is primarily an exploratory technique to rationalize the number of variables in an analysis (for further causal analysis). Factor analysis, on the other hand, is approached with a prior knowledge or belief that which variables may be similar and therefore should load on a single factor. Factor analysis is thus a popular variable reduction technique in market research."
   ]
  },
  {
   "cell_type": "markdown",
   "id": "d37bee18",
   "metadata": {
    "papermill": {
     "duration": 0.039888,
     "end_time": "2021-12-25T14:49:40.002699",
     "exception": false,
     "start_time": "2021-12-25T14:49:39.962811",
     "status": "completed"
    },
    "tags": []
   },
   "source": [
    "### Test to check for adequacy\n",
    "\n",
    "The following tests are used to check the adequacy to apply factor analysis to the dataset. \n",
    "\n",
    "**1. BARTLETT’S TEST OF SPHERICITY**\n",
    "\n",
    "**2. KAISER-MEYER-OLKIN (KMO) TEST**"
   ]
  },
  {
   "cell_type": "markdown",
   "id": "f320c357",
   "metadata": {
    "papermill": {
     "duration": 0.039869,
     "end_time": "2021-12-25T14:49:40.084813",
     "exception": false,
     "start_time": "2021-12-25T14:49:40.044944",
     "status": "completed"
    },
    "tags": []
   },
   "source": [
    "Reference - [Analytics vidhya](https://www.analyticsvidhya.com/blog/2020/10/dimensionality-reduction-using-factor-analysis-in-python/)"
   ]
  },
  {
   "cell_type": "markdown",
   "id": "fa8362de",
   "metadata": {
    "papermill": {
     "duration": 0.040351,
     "end_time": "2021-12-25T14:49:40.167392",
     "exception": false,
     "start_time": "2021-12-25T14:49:40.127041",
     "status": "completed"
    },
    "tags": []
   },
   "source": [
    "#### Bartlett's test of sphericity\n",
    "\n",
    "H0 : Correlation matrix is an Identical matrix\n",
    "\n",
    "H1 : Correlation matrix is not Identical matrix"
   ]
  },
  {
   "cell_type": "code",
   "execution_count": 9,
   "id": "a5b8b622",
   "metadata": {
    "papermill": {
     "duration": 12.963451,
     "end_time": "2021-12-25T14:49:53.171730",
     "exception": false,
     "start_time": "2021-12-25T14:49:40.208279",
     "status": "completed"
    },
    "tags": []
   },
   "outputs": [
    {
     "name": "stdout",
     "output_type": "stream",
     "text": [
      "Requirement already satisfied: factor_analyzer in c:\\users\\mitali\\anaconda3\\lib\\site-packages (0.4.1)\n",
      "Requirement already satisfied: scipy in c:\\users\\mitali\\anaconda3\\lib\\site-packages (from factor_analyzer) (1.7.3)\n",
      "Requirement already satisfied: pre-commit in c:\\users\\mitali\\anaconda3\\lib\\site-packages (from factor_analyzer) (3.2.2)\n",
      "Requirement already satisfied: scikit-learn in c:\\users\\mitali\\anaconda3\\lib\\site-packages (from factor_analyzer) (1.0.2)\n",
      "Requirement already satisfied: pandas in c:\\users\\mitali\\anaconda3\\lib\\site-packages (from factor_analyzer) (1.4.2)\n",
      "Requirement already satisfied: numpy in c:\\users\\mitali\\anaconda3\\lib\\site-packages (from factor_analyzer) (1.21.5)\n",
      "Requirement already satisfied: pytz>=2020.1 in c:\\users\\mitali\\anaconda3\\lib\\site-packages (from pandas->factor_analyzer) (2021.3)\n",
      "Requirement already satisfied: python-dateutil>=2.8.1 in c:\\users\\mitali\\anaconda3\\lib\\site-packages (from pandas->factor_analyzer) (2.8.2)\n",
      "Requirement already satisfied: six>=1.5 in c:\\users\\mitali\\anaconda3\\lib\\site-packages (from python-dateutil>=2.8.1->pandas->factor_analyzer) (1.16.0)\n",
      "Requirement already satisfied: cfgv>=2.0.0 in c:\\users\\mitali\\anaconda3\\lib\\site-packages (from pre-commit->factor_analyzer) (3.3.1)\n",
      "Requirement already satisfied: pyyaml>=5.1 in c:\\users\\mitali\\anaconda3\\lib\\site-packages (from pre-commit->factor_analyzer) (6.0)\n",
      "Requirement already satisfied: identify>=1.0.0 in c:\\users\\mitali\\anaconda3\\lib\\site-packages (from pre-commit->factor_analyzer) (2.5.22)\n",
      "Requirement already satisfied: virtualenv>=20.10.0 in c:\\users\\mitali\\anaconda3\\lib\\site-packages (from pre-commit->factor_analyzer) (20.21.0)\n",
      "Requirement already satisfied: nodeenv>=0.11.1 in c:\\users\\mitali\\anaconda3\\lib\\site-packages (from pre-commit->factor_analyzer) (1.7.0)\n",
      "Requirement already satisfied: setuptools in c:\\users\\mitali\\anaconda3\\lib\\site-packages (from nodeenv>=0.11.1->pre-commit->factor_analyzer) (61.2.0)\n",
      "Requirement already satisfied: platformdirs<4,>=2.4 in c:\\users\\mitali\\anaconda3\\lib\\site-packages (from virtualenv>=20.10.0->pre-commit->factor_analyzer) (3.2.0)\n",
      "Requirement already satisfied: distlib<1,>=0.3.6 in c:\\users\\mitali\\anaconda3\\lib\\site-packages (from virtualenv>=20.10.0->pre-commit->factor_analyzer) (0.3.6)\n",
      "Requirement already satisfied: filelock<4,>=3.4.1 in c:\\users\\mitali\\anaconda3\\lib\\site-packages (from virtualenv>=20.10.0->pre-commit->factor_analyzer) (3.6.0)\n",
      "Requirement already satisfied: threadpoolctl>=2.0.0 in c:\\users\\mitali\\anaconda3\\lib\\site-packages (from scikit-learn->factor_analyzer) (2.2.0)\n",
      "Requirement already satisfied: joblib>=0.11 in c:\\users\\mitali\\anaconda3\\lib\\site-packages (from scikit-learn->factor_analyzer) (1.1.0)\n"
     ]
    }
   ],
   "source": [
    "!pip install factor_analyzer"
   ]
  },
  {
   "cell_type": "code",
   "execution_count": 13,
   "id": "101a37ed",
   "metadata": {
    "papermill": {
     "duration": 0.05772,
     "end_time": "2021-12-25T14:49:53.273733",
     "exception": false,
     "start_time": "2021-12-25T14:49:53.216013",
     "status": "completed"
    },
    "tags": []
   },
   "outputs": [],
   "source": [
    "data = df.drop('Divorce_Y_N',axis=1)"
   ]
  },
  {
   "cell_type": "code",
   "execution_count": 14,
   "id": "0d271932",
   "metadata": {
    "papermill": {
     "duration": 0.178739,
     "end_time": "2021-12-25T14:49:53.497247",
     "exception": false,
     "start_time": "2021-12-25T14:49:53.318508",
     "status": "completed"
    },
    "tags": []
   },
   "outputs": [
    {
     "name": "stdout",
     "output_type": "stream",
     "text": [
      "Chi squared value :  17606.430077903235\n",
      "p value :  0.0\n"
     ]
    }
   ],
   "source": [
    "from factor_analyzer.factor_analyzer import calculate_bartlett_sphericity\n",
    "chi2,p = calculate_bartlett_sphericity(data)\n",
    "print(\"Chi squared value : \",chi2)\n",
    "print(\"p value : \",p)"
   ]
  },
  {
   "cell_type": "markdown",
   "id": "af907360",
   "metadata": {
    "papermill": {
     "duration": 0.043417,
     "end_time": "2021-12-25T14:49:53.586343",
     "exception": false,
     "start_time": "2021-12-25T14:49:53.542926",
     "status": "completed"
    },
    "tags": []
   },
   "source": [
    "**The p-value < 0.05, correlation is present among the variables with 95% confidence interval**"
   ]
  },
  {
   "cell_type": "markdown",
   "id": "650f2769",
   "metadata": {
    "papermill": {
     "duration": 0.044482,
     "end_time": "2021-12-25T14:49:53.677557",
     "exception": false,
     "start_time": "2021-12-25T14:49:53.633075",
     "status": "completed"
    },
    "tags": []
   },
   "source": [
    "### KMO Test\n",
    "\n",
    "KMO Test measures the proportion of variance that might be a common variance among the variables. Larger proportions are expected as it represents more correlation is present among the variables thereby giving way for the application of dimensionality reduction techniques such as Factor Analysis. **KMO score is always between 0 to 1 and values more than 0.6 are much appreciated.**"
   ]
  },
  {
   "cell_type": "code",
   "execution_count": 15,
   "id": "67373c43",
   "metadata": {
    "papermill": {
     "duration": 0.07634,
     "end_time": "2021-12-25T14:49:53.800425",
     "exception": false,
     "start_time": "2021-12-25T14:49:53.724085",
     "status": "completed"
    },
    "tags": []
   },
   "outputs": [
    {
     "name": "stdout",
     "output_type": "stream",
     "text": [
      "0.9643724872807456\n"
     ]
    }
   ],
   "source": [
    "from factor_analyzer.factor_analyzer import calculate_kmo\n",
    "kmo_vars,kmo_model = calculate_kmo(data)\n",
    "print(kmo_model)"
   ]
  },
  {
   "cell_type": "markdown",
   "id": "0541430d",
   "metadata": {
    "papermill": {
     "duration": 0.054208,
     "end_time": "2021-12-25T14:49:53.941146",
     "exception": false,
     "start_time": "2021-12-25T14:49:53.886938",
     "status": "completed"
    },
    "tags": []
   },
   "source": [
    "**KMO score is close to 1, thus applying factor analysis can be effective for the dataset.**"
   ]
  },
  {
   "cell_type": "code",
   "execution_count": 16,
   "id": "3af228bb",
   "metadata": {},
   "outputs": [
    {
     "data": {
      "text/plain": [
       "array([4.01756867e+01, 2.16531589e+00, 1.41651436e+00, 1.19405368e+00,\n",
       "       8.96249766e-01, 7.88897467e-01, 6.98636632e-01, 5.95362778e-01,\n",
       "       5.68366461e-01, 5.29115848e-01, 4.28671399e-01, 3.90369411e-01,\n",
       "       3.62469358e-01, 3.19198119e-01, 2.83031788e-01, 2.70341457e-01,\n",
       "       2.52520084e-01, 2.20402276e-01, 2.02203198e-01, 1.91133304e-01,\n",
       "       1.75596029e-01, 1.65126304e-01, 1.38913064e-01, 1.32199503e-01,\n",
       "       1.19176457e-01, 1.07826952e-01, 1.03507589e-01, 1.00321611e-01,\n",
       "       9.48779953e-02, 8.83932265e-02, 7.82819003e-02, 7.10819919e-02,\n",
       "       6.61273710e-02, 6.21878385e-02, 5.42665704e-02, 5.37969531e-02,\n",
       "       5.01311101e-02, 4.64030261e-02, 3.99427933e-02, 3.83918809e-02,\n",
       "       3.53348952e-02, 3.01372243e-02, 2.80488023e-02, 2.49852654e-02,\n",
       "       2.17052887e-02, 2.16659686e-02, 1.81846648e-02, 1.60713319e-02,\n",
       "       1.50625288e-02, 1.31196938e-02, 1.19387963e-02, 1.10997856e-02,\n",
       "       9.73035916e-03, 7.82527366e-03])"
      ]
     },
     "execution_count": 16,
     "metadata": {},
     "output_type": "execute_result"
    }
   ],
   "source": [
    "from factor_analyzer import FactorAnalyzer\n",
    "fa = FactorAnalyzer(rotation = None)\n",
    "fa.fit(data)\n",
    "ev,v =fa.get_eigenvalues()\n",
    "ev"
   ]
  },
  {
   "cell_type": "code",
   "execution_count": 22,
   "id": "78dace3e",
   "metadata": {},
   "outputs": [
    {
     "data": {
      "text/plain": [
       "array([4.01756867e+01, 2.16531589e+00, 1.41651436e+00, 1.19405368e+00,\n",
       "       8.96249766e-01, 7.88897467e-01, 6.98636632e-01, 5.95362778e-01,\n",
       "       5.68366461e-01, 5.29115848e-01, 4.28671399e-01, 3.90369411e-01,\n",
       "       3.62469358e-01, 3.19198119e-01, 2.83031788e-01, 2.70341457e-01,\n",
       "       2.52520084e-01, 2.20402276e-01, 2.02203198e-01, 1.91133304e-01,\n",
       "       1.75596029e-01, 1.65126304e-01, 1.38913064e-01, 1.32199503e-01,\n",
       "       1.19176457e-01, 1.07826952e-01, 1.03507589e-01, 1.00321611e-01,\n",
       "       9.48779953e-02, 8.83932265e-02, 7.82819003e-02, 7.10819919e-02,\n",
       "       6.61273710e-02, 6.21878385e-02, 5.42665704e-02, 5.37969531e-02,\n",
       "       5.01311101e-02, 4.64030261e-02, 3.99427933e-02, 3.83918809e-02,\n",
       "       3.53348952e-02, 3.01372243e-02, 2.80488023e-02, 2.49852654e-02,\n",
       "       2.17052887e-02, 2.16659686e-02, 1.81846648e-02, 1.60713319e-02,\n",
       "       1.50625288e-02, 1.31196938e-02, 1.19387963e-02, 1.10997856e-02,\n",
       "       9.73035916e-03, 7.82527366e-03])"
      ]
     },
     "execution_count": 22,
     "metadata": {},
     "output_type": "execute_result"
    }
   ],
   "source": [
    "from factor_analyzer import FactorAnalyzer\n",
    "fa = FactorAnalyzer(rotation = None)\n",
    "fa.fit(data,25)\n",
    "ev,v =fa.get_eigenvalues()\n",
    "ev"
   ]
  },
  {
   "cell_type": "code",
   "execution_count": 13,
   "id": "0c623477",
   "metadata": {},
   "outputs": [
    {
     "data": {
      "text/plain": [
       "FactorAnalyzer(n_factors=5, rotation='varimax', rotation_kwargs={})"
      ]
     },
     "execution_count": 13,
     "metadata": {},
     "output_type": "execute_result"
    }
   ],
   "source": [
    "fa = FactorAnalyzer(n_factors=5,rotation='varimax')\n",
    "fa.fit(data)"
   ]
  },
  {
   "cell_type": "code",
   "execution_count": 14,
   "id": "e673b7f5",
   "metadata": {},
   "outputs": [
    {
     "data": {
      "text/html": [
       "<div>\n",
       "<style scoped>\n",
       "    .dataframe tbody tr th:only-of-type {\n",
       "        vertical-align: middle;\n",
       "    }\n",
       "\n",
       "    .dataframe tbody tr th {\n",
       "        vertical-align: top;\n",
       "    }\n",
       "\n",
       "    .dataframe thead th {\n",
       "        text-align: right;\n",
       "    }\n",
       "</style>\n",
       "<table border=\"1\" class=\"dataframe\">\n",
       "  <thead>\n",
       "    <tr style=\"text-align: right;\">\n",
       "      <th></th>\n",
       "      <th>0</th>\n",
       "      <th>1</th>\n",
       "      <th>2</th>\n",
       "      <th>3</th>\n",
       "      <th>4</th>\n",
       "    </tr>\n",
       "  </thead>\n",
       "  <tbody>\n",
       "    <tr>\n",
       "      <th>0</th>\n",
       "      <td>0.698027</td>\n",
       "      <td>0.415375</td>\n",
       "      <td>0.251573</td>\n",
       "      <td>0.221070</td>\n",
       "      <td>0.190562</td>\n",
       "    </tr>\n",
       "    <tr>\n",
       "      <th>1</th>\n",
       "      <td>0.799304</td>\n",
       "      <td>0.312126</td>\n",
       "      <td>0.248137</td>\n",
       "      <td>0.007242</td>\n",
       "      <td>0.249143</td>\n",
       "    </tr>\n",
       "    <tr>\n",
       "      <th>2</th>\n",
       "      <td>0.685239</td>\n",
       "      <td>0.362436</td>\n",
       "      <td>0.142554</td>\n",
       "      <td>0.229959</td>\n",
       "      <td>0.270391</td>\n",
       "    </tr>\n",
       "    <tr>\n",
       "      <th>3</th>\n",
       "      <td>0.721785</td>\n",
       "      <td>0.372486</td>\n",
       "      <td>0.181268</td>\n",
       "      <td>0.174657</td>\n",
       "      <td>0.242710</td>\n",
       "    </tr>\n",
       "    <tr>\n",
       "      <th>4</th>\n",
       "      <td>0.660066</td>\n",
       "      <td>0.506009</td>\n",
       "      <td>0.377305</td>\n",
       "      <td>0.198270</td>\n",
       "      <td>0.168693</td>\n",
       "    </tr>\n",
       "    <tr>\n",
       "      <th>5</th>\n",
       "      <td>0.087527</td>\n",
       "      <td>0.188128</td>\n",
       "      <td>0.079898</td>\n",
       "      <td>0.574254</td>\n",
       "      <td>-0.039732</td>\n",
       "    </tr>\n",
       "    <tr>\n",
       "      <th>6</th>\n",
       "      <td>0.433963</td>\n",
       "      <td>0.017474</td>\n",
       "      <td>-0.018941</td>\n",
       "      <td>0.567000</td>\n",
       "      <td>0.249501</td>\n",
       "    </tr>\n",
       "    <tr>\n",
       "      <th>7</th>\n",
       "      <td>0.779464</td>\n",
       "      <td>0.399979</td>\n",
       "      <td>0.314565</td>\n",
       "      <td>0.054577</td>\n",
       "      <td>0.152865</td>\n",
       "    </tr>\n",
       "    <tr>\n",
       "      <th>8</th>\n",
       "      <td>0.724568</td>\n",
       "      <td>0.405889</td>\n",
       "      <td>0.343090</td>\n",
       "      <td>0.273173</td>\n",
       "      <td>0.175023</td>\n",
       "    </tr>\n",
       "    <tr>\n",
       "      <th>9</th>\n",
       "      <td>0.767630</td>\n",
       "      <td>0.352012</td>\n",
       "      <td>0.183620</td>\n",
       "      <td>0.240463</td>\n",
       "      <td>0.133885</td>\n",
       "    </tr>\n",
       "    <tr>\n",
       "      <th>10</th>\n",
       "      <td>0.719113</td>\n",
       "      <td>0.479867</td>\n",
       "      <td>0.282684</td>\n",
       "      <td>0.257995</td>\n",
       "      <td>0.109831</td>\n",
       "    </tr>\n",
       "    <tr>\n",
       "      <th>11</th>\n",
       "      <td>0.828267</td>\n",
       "      <td>0.310767</td>\n",
       "      <td>0.248492</td>\n",
       "      <td>0.167567</td>\n",
       "      <td>0.151989</td>\n",
       "    </tr>\n",
       "    <tr>\n",
       "      <th>12</th>\n",
       "      <td>0.672403</td>\n",
       "      <td>0.453337</td>\n",
       "      <td>0.334284</td>\n",
       "      <td>0.210426</td>\n",
       "      <td>0.097349</td>\n",
       "    </tr>\n",
       "    <tr>\n",
       "      <th>13</th>\n",
       "      <td>0.801431</td>\n",
       "      <td>0.333058</td>\n",
       "      <td>0.297584</td>\n",
       "      <td>0.118715</td>\n",
       "      <td>0.132737</td>\n",
       "    </tr>\n",
       "    <tr>\n",
       "      <th>14</th>\n",
       "      <td>0.745488</td>\n",
       "      <td>0.353440</td>\n",
       "      <td>0.327038</td>\n",
       "      <td>0.305496</td>\n",
       "      <td>0.104044</td>\n",
       "    </tr>\n",
       "    <tr>\n",
       "      <th>15</th>\n",
       "      <td>0.773158</td>\n",
       "      <td>0.329500</td>\n",
       "      <td>0.264030</td>\n",
       "      <td>0.300530</td>\n",
       "      <td>0.150878</td>\n",
       "    </tr>\n",
       "    <tr>\n",
       "      <th>16</th>\n",
       "      <td>0.704887</td>\n",
       "      <td>0.454021</td>\n",
       "      <td>0.355759</td>\n",
       "      <td>0.305878</td>\n",
       "      <td>0.089859</td>\n",
       "    </tr>\n",
       "    <tr>\n",
       "      <th>17</th>\n",
       "      <td>0.836865</td>\n",
       "      <td>0.327699</td>\n",
       "      <td>0.292841</td>\n",
       "      <td>0.200275</td>\n",
       "      <td>0.154872</td>\n",
       "    </tr>\n",
       "    <tr>\n",
       "      <th>18</th>\n",
       "      <td>0.708170</td>\n",
       "      <td>0.450446</td>\n",
       "      <td>0.369660</td>\n",
       "      <td>0.294286</td>\n",
       "      <td>0.091962</td>\n",
       "    </tr>\n",
       "    <tr>\n",
       "      <th>19</th>\n",
       "      <td>0.804204</td>\n",
       "      <td>0.380394</td>\n",
       "      <td>0.284953</td>\n",
       "      <td>0.160955</td>\n",
       "      <td>0.201407</td>\n",
       "    </tr>\n",
       "    <tr>\n",
       "      <th>20</th>\n",
       "      <td>0.677761</td>\n",
       "      <td>0.487334</td>\n",
       "      <td>0.395634</td>\n",
       "      <td>0.137235</td>\n",
       "      <td>0.099071</td>\n",
       "    </tr>\n",
       "    <tr>\n",
       "      <th>21</th>\n",
       "      <td>0.691723</td>\n",
       "      <td>0.478280</td>\n",
       "      <td>0.367266</td>\n",
       "      <td>0.055819</td>\n",
       "      <td>0.095693</td>\n",
       "    </tr>\n",
       "    <tr>\n",
       "      <th>22</th>\n",
       "      <td>0.592516</td>\n",
       "      <td>0.572785</td>\n",
       "      <td>0.498514</td>\n",
       "      <td>0.043166</td>\n",
       "      <td>0.003986</td>\n",
       "    </tr>\n",
       "    <tr>\n",
       "      <th>23</th>\n",
       "      <td>0.773062</td>\n",
       "      <td>0.367266</td>\n",
       "      <td>0.351396</td>\n",
       "      <td>0.042589</td>\n",
       "      <td>0.140685</td>\n",
       "    </tr>\n",
       "    <tr>\n",
       "      <th>24</th>\n",
       "      <td>0.648886</td>\n",
       "      <td>0.530787</td>\n",
       "      <td>0.385216</td>\n",
       "      <td>0.113069</td>\n",
       "      <td>0.006095</td>\n",
       "    </tr>\n",
       "    <tr>\n",
       "      <th>25</th>\n",
       "      <td>0.805294</td>\n",
       "      <td>0.348423</td>\n",
       "      <td>0.351402</td>\n",
       "      <td>0.059615</td>\n",
       "      <td>0.078859</td>\n",
       "    </tr>\n",
       "    <tr>\n",
       "      <th>26</th>\n",
       "      <td>0.705431</td>\n",
       "      <td>0.398178</td>\n",
       "      <td>0.425059</td>\n",
       "      <td>0.166356</td>\n",
       "      <td>0.130304</td>\n",
       "    </tr>\n",
       "    <tr>\n",
       "      <th>27</th>\n",
       "      <td>0.701701</td>\n",
       "      <td>0.477869</td>\n",
       "      <td>0.337592</td>\n",
       "      <td>0.078317</td>\n",
       "      <td>0.006715</td>\n",
       "    </tr>\n",
       "    <tr>\n",
       "      <th>28</th>\n",
       "      <td>0.653553</td>\n",
       "      <td>0.532366</td>\n",
       "      <td>0.450013</td>\n",
       "      <td>0.143833</td>\n",
       "      <td>0.029069</td>\n",
       "    </tr>\n",
       "    <tr>\n",
       "      <th>29</th>\n",
       "      <td>0.761142</td>\n",
       "      <td>0.435629</td>\n",
       "      <td>0.291551</td>\n",
       "      <td>0.106761</td>\n",
       "      <td>0.097272</td>\n",
       "    </tr>\n",
       "    <tr>\n",
       "      <th>30</th>\n",
       "      <td>0.469805</td>\n",
       "      <td>0.663567</td>\n",
       "      <td>0.276445</td>\n",
       "      <td>0.158971</td>\n",
       "      <td>0.089035</td>\n",
       "    </tr>\n",
       "    <tr>\n",
       "      <th>31</th>\n",
       "      <td>0.516439</td>\n",
       "      <td>0.620277</td>\n",
       "      <td>0.216073</td>\n",
       "      <td>0.272116</td>\n",
       "      <td>0.222387</td>\n",
       "    </tr>\n",
       "    <tr>\n",
       "      <th>32</th>\n",
       "      <td>0.521361</td>\n",
       "      <td>0.693789</td>\n",
       "      <td>0.328333</td>\n",
       "      <td>0.172851</td>\n",
       "      <td>0.168607</td>\n",
       "    </tr>\n",
       "    <tr>\n",
       "      <th>33</th>\n",
       "      <td>0.461393</td>\n",
       "      <td>0.746075</td>\n",
       "      <td>0.276470</td>\n",
       "      <td>0.187270</td>\n",
       "      <td>0.121620</td>\n",
       "    </tr>\n",
       "    <tr>\n",
       "      <th>34</th>\n",
       "      <td>0.531512</td>\n",
       "      <td>0.683758</td>\n",
       "      <td>0.396972</td>\n",
       "      <td>0.141842</td>\n",
       "      <td>0.071693</td>\n",
       "    </tr>\n",
       "    <tr>\n",
       "      <th>35</th>\n",
       "      <td>0.533353</td>\n",
       "      <td>0.677020</td>\n",
       "      <td>0.378450</td>\n",
       "      <td>0.179505</td>\n",
       "      <td>0.129580</td>\n",
       "    </tr>\n",
       "    <tr>\n",
       "      <th>36</th>\n",
       "      <td>0.556003</td>\n",
       "      <td>0.666264</td>\n",
       "      <td>0.215937</td>\n",
       "      <td>0.234705</td>\n",
       "      <td>0.168567</td>\n",
       "    </tr>\n",
       "    <tr>\n",
       "      <th>37</th>\n",
       "      <td>0.555064</td>\n",
       "      <td>0.632631</td>\n",
       "      <td>0.296223</td>\n",
       "      <td>0.257301</td>\n",
       "      <td>0.115778</td>\n",
       "    </tr>\n",
       "    <tr>\n",
       "      <th>38</th>\n",
       "      <td>0.606777</td>\n",
       "      <td>0.529890</td>\n",
       "      <td>0.325309</td>\n",
       "      <td>0.280057</td>\n",
       "      <td>0.156272</td>\n",
       "    </tr>\n",
       "    <tr>\n",
       "      <th>39</th>\n",
       "      <td>0.598775</td>\n",
       "      <td>0.562060</td>\n",
       "      <td>0.298783</td>\n",
       "      <td>0.354936</td>\n",
       "      <td>0.149309</td>\n",
       "    </tr>\n",
       "    <tr>\n",
       "      <th>40</th>\n",
       "      <td>0.590439</td>\n",
       "      <td>0.584806</td>\n",
       "      <td>0.351094</td>\n",
       "      <td>0.270377</td>\n",
       "      <td>0.050584</td>\n",
       "    </tr>\n",
       "    <tr>\n",
       "      <th>41</th>\n",
       "      <td>0.440831</td>\n",
       "      <td>0.353782</td>\n",
       "      <td>0.578342</td>\n",
       "      <td>0.213495</td>\n",
       "      <td>0.118371</td>\n",
       "    </tr>\n",
       "    <tr>\n",
       "      <th>42</th>\n",
       "      <td>0.301876</td>\n",
       "      <td>0.163223</td>\n",
       "      <td>0.794560</td>\n",
       "      <td>0.104251</td>\n",
       "      <td>-0.009142</td>\n",
       "    </tr>\n",
       "    <tr>\n",
       "      <th>43</th>\n",
       "      <td>0.515830</td>\n",
       "      <td>0.434057</td>\n",
       "      <td>0.494724</td>\n",
       "      <td>0.289250</td>\n",
       "      <td>0.113322</td>\n",
       "    </tr>\n",
       "    <tr>\n",
       "      <th>44</th>\n",
       "      <td>0.261698</td>\n",
       "      <td>0.178621</td>\n",
       "      <td>0.772758</td>\n",
       "      <td>0.099414</td>\n",
       "      <td>0.095075</td>\n",
       "    </tr>\n",
       "    <tr>\n",
       "      <th>45</th>\n",
       "      <td>0.117382</td>\n",
       "      <td>0.321542</td>\n",
       "      <td>0.662842</td>\n",
       "      <td>-0.041512</td>\n",
       "      <td>0.144313</td>\n",
       "    </tr>\n",
       "    <tr>\n",
       "      <th>46</th>\n",
       "      <td>0.353012</td>\n",
       "      <td>0.339638</td>\n",
       "      <td>0.688423</td>\n",
       "      <td>0.079460</td>\n",
       "      <td>0.182279</td>\n",
       "    </tr>\n",
       "    <tr>\n",
       "      <th>47</th>\n",
       "      <td>0.351496</td>\n",
       "      <td>0.444549</td>\n",
       "      <td>0.284883</td>\n",
       "      <td>0.114407</td>\n",
       "      <td>0.424175</td>\n",
       "    </tr>\n",
       "    <tr>\n",
       "      <th>48</th>\n",
       "      <td>0.447605</td>\n",
       "      <td>0.435259</td>\n",
       "      <td>0.419185</td>\n",
       "      <td>0.077546</td>\n",
       "      <td>0.349794</td>\n",
       "    </tr>\n",
       "    <tr>\n",
       "      <th>49</th>\n",
       "      <td>0.451648</td>\n",
       "      <td>0.479588</td>\n",
       "      <td>0.392268</td>\n",
       "      <td>0.086672</td>\n",
       "      <td>0.443480</td>\n",
       "    </tr>\n",
       "    <tr>\n",
       "      <th>50</th>\n",
       "      <td>0.361114</td>\n",
       "      <td>0.535264</td>\n",
       "      <td>0.320250</td>\n",
       "      <td>0.089333</td>\n",
       "      <td>0.532670</td>\n",
       "    </tr>\n",
       "    <tr>\n",
       "      <th>51</th>\n",
       "      <td>0.292414</td>\n",
       "      <td>0.548380</td>\n",
       "      <td>0.394578</td>\n",
       "      <td>0.061953</td>\n",
       "      <td>0.184556</td>\n",
       "    </tr>\n",
       "    <tr>\n",
       "      <th>52</th>\n",
       "      <td>0.358215</td>\n",
       "      <td>0.663446</td>\n",
       "      <td>0.264602</td>\n",
       "      <td>0.098421</td>\n",
       "      <td>0.191860</td>\n",
       "    </tr>\n",
       "    <tr>\n",
       "      <th>53</th>\n",
       "      <td>0.477099</td>\n",
       "      <td>0.647542</td>\n",
       "      <td>0.366117</td>\n",
       "      <td>0.138406</td>\n",
       "      <td>0.149094</td>\n",
       "    </tr>\n",
       "  </tbody>\n",
       "</table>\n",
       "</div>"
      ],
      "text/plain": [
       "           0         1         2         3         4\n",
       "0   0.698027  0.415375  0.251573  0.221070  0.190562\n",
       "1   0.799304  0.312126  0.248137  0.007242  0.249143\n",
       "2   0.685239  0.362436  0.142554  0.229959  0.270391\n",
       "3   0.721785  0.372486  0.181268  0.174657  0.242710\n",
       "4   0.660066  0.506009  0.377305  0.198270  0.168693\n",
       "5   0.087527  0.188128  0.079898  0.574254 -0.039732\n",
       "6   0.433963  0.017474 -0.018941  0.567000  0.249501\n",
       "7   0.779464  0.399979  0.314565  0.054577  0.152865\n",
       "8   0.724568  0.405889  0.343090  0.273173  0.175023\n",
       "9   0.767630  0.352012  0.183620  0.240463  0.133885\n",
       "10  0.719113  0.479867  0.282684  0.257995  0.109831\n",
       "11  0.828267  0.310767  0.248492  0.167567  0.151989\n",
       "12  0.672403  0.453337  0.334284  0.210426  0.097349\n",
       "13  0.801431  0.333058  0.297584  0.118715  0.132737\n",
       "14  0.745488  0.353440  0.327038  0.305496  0.104044\n",
       "15  0.773158  0.329500  0.264030  0.300530  0.150878\n",
       "16  0.704887  0.454021  0.355759  0.305878  0.089859\n",
       "17  0.836865  0.327699  0.292841  0.200275  0.154872\n",
       "18  0.708170  0.450446  0.369660  0.294286  0.091962\n",
       "19  0.804204  0.380394  0.284953  0.160955  0.201407\n",
       "20  0.677761  0.487334  0.395634  0.137235  0.099071\n",
       "21  0.691723  0.478280  0.367266  0.055819  0.095693\n",
       "22  0.592516  0.572785  0.498514  0.043166  0.003986\n",
       "23  0.773062  0.367266  0.351396  0.042589  0.140685\n",
       "24  0.648886  0.530787  0.385216  0.113069  0.006095\n",
       "25  0.805294  0.348423  0.351402  0.059615  0.078859\n",
       "26  0.705431  0.398178  0.425059  0.166356  0.130304\n",
       "27  0.701701  0.477869  0.337592  0.078317  0.006715\n",
       "28  0.653553  0.532366  0.450013  0.143833  0.029069\n",
       "29  0.761142  0.435629  0.291551  0.106761  0.097272\n",
       "30  0.469805  0.663567  0.276445  0.158971  0.089035\n",
       "31  0.516439  0.620277  0.216073  0.272116  0.222387\n",
       "32  0.521361  0.693789  0.328333  0.172851  0.168607\n",
       "33  0.461393  0.746075  0.276470  0.187270  0.121620\n",
       "34  0.531512  0.683758  0.396972  0.141842  0.071693\n",
       "35  0.533353  0.677020  0.378450  0.179505  0.129580\n",
       "36  0.556003  0.666264  0.215937  0.234705  0.168567\n",
       "37  0.555064  0.632631  0.296223  0.257301  0.115778\n",
       "38  0.606777  0.529890  0.325309  0.280057  0.156272\n",
       "39  0.598775  0.562060  0.298783  0.354936  0.149309\n",
       "40  0.590439  0.584806  0.351094  0.270377  0.050584\n",
       "41  0.440831  0.353782  0.578342  0.213495  0.118371\n",
       "42  0.301876  0.163223  0.794560  0.104251 -0.009142\n",
       "43  0.515830  0.434057  0.494724  0.289250  0.113322\n",
       "44  0.261698  0.178621  0.772758  0.099414  0.095075\n",
       "45  0.117382  0.321542  0.662842 -0.041512  0.144313\n",
       "46  0.353012  0.339638  0.688423  0.079460  0.182279\n",
       "47  0.351496  0.444549  0.284883  0.114407  0.424175\n",
       "48  0.447605  0.435259  0.419185  0.077546  0.349794\n",
       "49  0.451648  0.479588  0.392268  0.086672  0.443480\n",
       "50  0.361114  0.535264  0.320250  0.089333  0.532670\n",
       "51  0.292414  0.548380  0.394578  0.061953  0.184556\n",
       "52  0.358215  0.663446  0.264602  0.098421  0.191860\n",
       "53  0.477099  0.647542  0.366117  0.138406  0.149094"
      ]
     },
     "execution_count": 14,
     "metadata": {},
     "output_type": "execute_result"
    }
   ],
   "source": [
    "# Factor Loadings\n",
    "\n",
    "fa.loadings_\n",
    "\n",
    "floading=pd.DataFrame(fa.loadings_)\n",
    "floading"
   ]
  },
  {
   "cell_type": "code",
   "execution_count": 16,
   "id": "d9f16019",
   "metadata": {},
   "outputs": [
    {
     "data": {
      "text/html": [
       "<div>\n",
       "<style scoped>\n",
       "    .dataframe tbody tr th:only-of-type {\n",
       "        vertical-align: middle;\n",
       "    }\n",
       "\n",
       "    .dataframe tbody tr th {\n",
       "        vertical-align: top;\n",
       "    }\n",
       "\n",
       "    .dataframe thead th {\n",
       "        text-align: right;\n",
       "    }\n",
       "</style>\n",
       "<table border=\"1\" class=\"dataframe\">\n",
       "  <thead>\n",
       "    <tr style=\"text-align: right;\">\n",
       "      <th></th>\n",
       "      <th>0</th>\n",
       "      <th>1</th>\n",
       "      <th>2</th>\n",
       "      <th>3</th>\n",
       "      <th>4</th>\n",
       "    </tr>\n",
       "  </thead>\n",
       "  <tbody>\n",
       "    <tr>\n",
       "      <th>0</th>\n",
       "      <td>-1.218824</td>\n",
       "      <td>0.254049</td>\n",
       "      <td>-0.918586</td>\n",
       "      <td>1.065917</td>\n",
       "      <td>1.879109</td>\n",
       "    </tr>\n",
       "    <tr>\n",
       "      <th>1</th>\n",
       "      <td>1.364118</td>\n",
       "      <td>-1.478401</td>\n",
       "      <td>-0.978084</td>\n",
       "      <td>1.841184</td>\n",
       "      <td>2.791804</td>\n",
       "    </tr>\n",
       "    <tr>\n",
       "      <th>2</th>\n",
       "      <td>1.024826</td>\n",
       "      <td>-1.338088</td>\n",
       "      <td>-0.240457</td>\n",
       "      <td>2.853335</td>\n",
       "      <td>-1.284975</td>\n",
       "    </tr>\n",
       "    <tr>\n",
       "      <th>3</th>\n",
       "      <td>0.937531</td>\n",
       "      <td>-1.154742</td>\n",
       "      <td>-0.886299</td>\n",
       "      <td>2.441000</td>\n",
       "      <td>1.482047</td>\n",
       "    </tr>\n",
       "    <tr>\n",
       "      <th>4</th>\n",
       "      <td>0.162689</td>\n",
       "      <td>-1.245264</td>\n",
       "      <td>0.172619</td>\n",
       "      <td>-0.777129</td>\n",
       "      <td>0.192902</td>\n",
       "    </tr>\n",
       "    <tr>\n",
       "      <th>...</th>\n",
       "      <td>...</td>\n",
       "      <td>...</td>\n",
       "      <td>...</td>\n",
       "      <td>...</td>\n",
       "      <td>...</td>\n",
       "    </tr>\n",
       "    <tr>\n",
       "      <th>165</th>\n",
       "      <td>-1.344899</td>\n",
       "      <td>2.082883</td>\n",
       "      <td>-2.521696</td>\n",
       "      <td>-0.447862</td>\n",
       "      <td>0.814576</td>\n",
       "    </tr>\n",
       "    <tr>\n",
       "      <th>166</th>\n",
       "      <td>-1.664267</td>\n",
       "      <td>0.239043</td>\n",
       "      <td>0.477993</td>\n",
       "      <td>0.221637</td>\n",
       "      <td>-0.061855</td>\n",
       "    </tr>\n",
       "    <tr>\n",
       "      <th>167</th>\n",
       "      <td>-0.270057</td>\n",
       "      <td>-0.700758</td>\n",
       "      <td>-0.118505</td>\n",
       "      <td>-0.343368</td>\n",
       "      <td>-0.620576</td>\n",
       "    </tr>\n",
       "    <tr>\n",
       "      <th>168</th>\n",
       "      <td>-1.108663</td>\n",
       "      <td>-0.683755</td>\n",
       "      <td>0.549004</td>\n",
       "      <td>-0.423529</td>\n",
       "      <td>1.085138</td>\n",
       "    </tr>\n",
       "    <tr>\n",
       "      <th>169</th>\n",
       "      <td>-0.871151</td>\n",
       "      <td>-0.491181</td>\n",
       "      <td>0.144159</td>\n",
       "      <td>-1.058098</td>\n",
       "      <td>0.941152</td>\n",
       "    </tr>\n",
       "  </tbody>\n",
       "</table>\n",
       "<p>170 rows × 5 columns</p>\n",
       "</div>"
      ],
      "text/plain": [
       "            0         1         2         3         4\n",
       "0   -1.218824  0.254049 -0.918586  1.065917  1.879109\n",
       "1    1.364118 -1.478401 -0.978084  1.841184  2.791804\n",
       "2    1.024826 -1.338088 -0.240457  2.853335 -1.284975\n",
       "3    0.937531 -1.154742 -0.886299  2.441000  1.482047\n",
       "4    0.162689 -1.245264  0.172619 -0.777129  0.192902\n",
       "..        ...       ...       ...       ...       ...\n",
       "165 -1.344899  2.082883 -2.521696 -0.447862  0.814576\n",
       "166 -1.664267  0.239043  0.477993  0.221637 -0.061855\n",
       "167 -0.270057 -0.700758 -0.118505 -0.343368 -0.620576\n",
       "168 -1.108663 -0.683755  0.549004 -0.423529  1.085138\n",
       "169 -0.871151 -0.491181  0.144159 -1.058098  0.941152\n",
       "\n",
       "[170 rows x 5 columns]"
      ]
     },
     "execution_count": 16,
     "metadata": {},
     "output_type": "execute_result"
    }
   ],
   "source": [
    "# Factor Scores\n",
    "\n",
    "fscore = fa.transform(data)\n",
    "\n",
    "fscore_data=pd.DataFrame(fscore)\n",
    "fscore_data"
   ]
  },
  {
   "cell_type": "code",
   "execution_count": null,
   "id": "891fd122",
   "metadata": {},
   "outputs": [],
   "source": []
  },
  {
   "cell_type": "code",
   "execution_count": 19,
   "id": "18bc3c73",
   "metadata": {
    "papermill": {
     "duration": 1.258047,
     "end_time": "2021-12-25T14:49:55.243984",
     "exception": false,
     "start_time": "2021-12-25T14:49:53.985937",
     "status": "completed"
    },
    "tags": []
   },
   "outputs": [
    {
     "data": {
      "image/png": "[encoded data removed]",
      "text/plain": [
       "<Figure size 432x288 with 1 Axes>"
      ]
     },
     "metadata": {
      "needs_background": "light"
     },
     "output_type": "display_data"
    }
   ],
   "source": [
    "from factor_analyzer import FactorAnalyzer\n",
    "n = data.shape[1]\n",
    "fa = FactorAnalyzer(rotation = None,impute = \"drop\",n_factors=n)\n",
    "fa.fit(data)\n",
    "ev,_ = fa.get_eigenvalues()\n",
    "plt.scatter(range(1,n+1),ev)\n",
    "\n",
    "plt.plot(range(1,n+1),ev)\n",
    "plt.title('Scree Plot')\n",
    "plt.xlabel('Factors')\n",
    "plt.ylabel('Eigen Value')\n",
    "plt.grid()"
   ]
  },
  {
   "cell_type": "code",
   "execution_count": null,
   "id": "d0074860",
   "metadata": {},
   "outputs": [],
   "source": []
  },
  {
   "cell_type": "markdown",
   "id": "1a331783",
   "metadata": {
    "papermill": {
     "duration": 0.045288,
     "end_time": "2021-12-25T14:49:55.334953",
     "exception": false,
     "start_time": "2021-12-25T14:49:55.289665",
     "status": "completed"
    },
    "tags": []
   },
   "source": [
    "### Factor Loading"
   ]
  },
  {
   "cell_type": "markdown",
   "id": "66581318",
   "metadata": {
    "papermill": {
     "duration": 0.047023,
     "end_time": "2021-12-25T14:49:55.427145",
     "exception": false,
     "start_time": "2021-12-25T14:49:55.380122",
     "status": "completed"
    },
    "tags": []
   },
   "source": [
    "Factor loading can tell us how each factor created is explaining each of the variable. More value says that factor explains well about that variable. Sorting the factor load values helps us understand which variables are grouped to represent a new factor."
   ]
  },
  {
   "cell_type": "code",
   "execution_count": 20,
   "id": "fd69c1dc",
   "metadata": {
    "papermill": {
     "duration": 1.036121,
     "end_time": "2021-12-25T14:49:56.508757",
     "exception": false,
     "start_time": "2021-12-25T14:49:55.472636",
     "status": "completed"
    },
    "tags": []
   },
   "outputs": [],
   "source": [
    "fa = FactorAnalyzer(n_factors=5,rotation='varimax')\n",
    "fa.fit(data)\n",
    "fa_load = pd.DataFrame(fa.loadings_,index=data.columns)"
   ]
  },
  {
   "cell_type": "code",
   "execution_count": 33,
   "id": "d29ddeee",
   "metadata": {
    "papermill": {
     "duration": 0.092789,
     "end_time": "2021-12-25T14:49:56.690176",
     "exception": false,
     "start_time": "2021-12-25T14:49:56.597387",
     "status": "completed"
    },
    "tags": []
   },
   "outputs": [
    {
     "data": {
      "text/html": [
       "<style type=\"text/css\">\n",
       "#T_34316_row0_col0, #T_34316_row1_col0, #T_34316_row2_col0, #T_34316_row3_col0, #T_34316_row3_col4, #T_34316_row4_col0, #T_34316_row5_col0, #T_34316_row5_col4, #T_34316_row6_col0, #T_34316_row7_col0, #T_34316_row7_col3, #T_34316_row8_col0, #T_34316_row9_col0, #T_34316_row11_col3, #T_34316_row12_col3, #T_34316_row13_col4, #T_34316_row15_col3, #T_34316_row16_col2, #T_34316_row17_col3, #T_34316_row21_col4, #T_34316_row25_col2, #T_34316_row27_col3, #T_34316_row28_col3, #T_34316_row29_col2, #T_34316_row31_col1, #T_34316_row32_col1, #T_34316_row33_col1, #T_34316_row34_col1, #T_34316_row35_col1, #T_34316_row36_col1, #T_34316_row36_col4, #T_34316_row37_col2, #T_34316_row37_col3, #T_34316_row38_col1, #T_34316_row39_col1, #T_34316_row40_col1, #T_34316_row41_col4, #T_34316_row42_col2, #T_34316_row42_col4, #T_34316_row43_col2, #T_34316_row44_col3, #T_34316_row44_col4, #T_34316_row45_col4, #T_34316_row46_col1, #T_34316_row47_col2, #T_34316_row48_col4, #T_34316_row49_col2, #T_34316_row51_col2, #T_34316_row52_col2, #T_34316_row53_col3 {\n",
       "  background-color: yellow;\n",
       "}\n",
       "</style>\n",
       "<table id=\"T_34316\">\n",
       "  <thead>\n",
       "    <tr>\n",
       "      <th class=\"blank level0\" >&nbsp;</th>\n",
       "      <th id=\"T_34316_level0_col0\" class=\"col_heading level0 col0\" >0</th>\n",
       "      <th id=\"T_34316_level0_col1\" class=\"col_heading level0 col1\" >1</th>\n",
       "      <th id=\"T_34316_level0_col2\" class=\"col_heading level0 col2\" >2</th>\n",
       "      <th id=\"T_34316_level0_col3\" class=\"col_heading level0 col3\" >3</th>\n",
       "      <th id=\"T_34316_level0_col4\" class=\"col_heading level0 col4\" >4</th>\n",
       "    </tr>\n",
       "  </thead>\n",
       "  <tbody>\n",
       "    <tr>\n",
       "      <th id=\"T_34316_level0_row0\" class=\"row_heading level0 row0\" >marriage</th>\n",
       "      <td id=\"T_34316_row0_col0\" class=\"data row0 col0\" >0.836865</td>\n",
       "      <td id=\"T_34316_row0_col1\" class=\"data row0 col1\" >0.327699</td>\n",
       "      <td id=\"T_34316_row0_col2\" class=\"data row0 col2\" >0.292841</td>\n",
       "      <td id=\"T_34316_row0_col3\" class=\"data row0 col3\" >0.200275</td>\n",
       "      <td id=\"T_34316_row0_col4\" class=\"data row0 col4\" >0.154872</td>\n",
       "    </tr>\n",
       "    <tr>\n",
       "      <th id=\"T_34316_level0_row1\" class=\"row_heading level0 row1\" >freeom_value</th>\n",
       "      <td id=\"T_34316_row1_col0\" class=\"data row1 col0\" >0.828267</td>\n",
       "      <td id=\"T_34316_row1_col1\" class=\"data row1 col1\" >0.310767</td>\n",
       "      <td id=\"T_34316_row1_col2\" class=\"data row1 col2\" >0.248492</td>\n",
       "      <td id=\"T_34316_row1_col3\" class=\"data row1 col3\" >0.167567</td>\n",
       "      <td id=\"T_34316_row1_col4\" class=\"data row1 col4\" >0.151989</td>\n",
       "    </tr>\n",
       "    <tr>\n",
       "      <th id=\"T_34316_level0_row2\" class=\"row_heading level0 row2\" >anxieties</th>\n",
       "      <td id=\"T_34316_row2_col0\" class=\"data row2 col0\" >0.805294</td>\n",
       "      <td id=\"T_34316_row2_col1\" class=\"data row2 col1\" >0.348423</td>\n",
       "      <td id=\"T_34316_row2_col2\" class=\"data row2 col2\" >0.351402</td>\n",
       "      <td id=\"T_34316_row2_col3\" class=\"data row2 col3\" >0.059615</td>\n",
       "      <td id=\"T_34316_row2_col4\" class=\"data row2 col4\" >0.078859</td>\n",
       "    </tr>\n",
       "    <tr>\n",
       "      <th id=\"T_34316_level0_row3\" class=\"row_heading level0 row3\" >trust</th>\n",
       "      <td id=\"T_34316_row3_col0\" class=\"data row3 col0\" >0.804204</td>\n",
       "      <td id=\"T_34316_row3_col1\" class=\"data row3 col1\" >0.380394</td>\n",
       "      <td id=\"T_34316_row3_col2\" class=\"data row3 col2\" >0.284953</td>\n",
       "      <td id=\"T_34316_row3_col3\" class=\"data row3 col3\" >0.160955</td>\n",
       "      <td id=\"T_34316_row3_col4\" class=\"data row3 col4\" >0.201407</td>\n",
       "    </tr>\n",
       "    <tr>\n",
       "      <th id=\"T_34316_level0_row4\" class=\"row_heading level0 row4\" >people_goals</th>\n",
       "      <td id=\"T_34316_row4_col0\" class=\"data row4 col0\" >0.801431</td>\n",
       "      <td id=\"T_34316_row4_col1\" class=\"data row4 col1\" >0.333058</td>\n",
       "      <td id=\"T_34316_row4_col2\" class=\"data row4 col2\" >0.297584</td>\n",
       "      <td id=\"T_34316_row4_col3\" class=\"data row4 col3\" >0.118715</td>\n",
       "      <td id=\"T_34316_row4_col4\" class=\"data row4 col4\" >0.132737</td>\n",
       "    </tr>\n",
       "    <tr>\n",
       "      <th id=\"T_34316_level0_row5\" class=\"row_heading level0 row5\" >Ignore_diff</th>\n",
       "      <td id=\"T_34316_row5_col0\" class=\"data row5 col0\" >0.799304</td>\n",
       "      <td id=\"T_34316_row5_col1\" class=\"data row5 col1\" >0.312126</td>\n",
       "      <td id=\"T_34316_row5_col2\" class=\"data row5 col2\" >0.248137</td>\n",
       "      <td id=\"T_34316_row5_col3\" class=\"data row5 col3\" >0.007242</td>\n",
       "      <td id=\"T_34316_row5_col4\" class=\"data row5 col4\" >0.249143</td>\n",
       "    </tr>\n",
       "    <tr>\n",
       "      <th id=\"T_34316_level0_row6\" class=\"row_heading level0 row6\" >enjoy_holiday</th>\n",
       "      <td id=\"T_34316_row6_col0\" class=\"data row6 col0\" >0.779464</td>\n",
       "      <td id=\"T_34316_row6_col1\" class=\"data row6 col1\" >0.399979</td>\n",
       "      <td id=\"T_34316_row6_col2\" class=\"data row6 col2\" >0.314565</td>\n",
       "      <td id=\"T_34316_row6_col3\" class=\"data row6 col3\" >0.054577</td>\n",
       "      <td id=\"T_34316_row6_col4\" class=\"data row6 col4\" >0.152865</td>\n",
       "    </tr>\n",
       "    <tr>\n",
       "      <th id=\"T_34316_level0_row7\" class=\"row_heading level0 row7\" >love</th>\n",
       "      <td id=\"T_34316_row7_col0\" class=\"data row7 col0\" >0.773158</td>\n",
       "      <td id=\"T_34316_row7_col1\" class=\"data row7 col1\" >0.329500</td>\n",
       "      <td id=\"T_34316_row7_col2\" class=\"data row7 col2\" >0.264030</td>\n",
       "      <td id=\"T_34316_row7_col3\" class=\"data row7 col3\" >0.300530</td>\n",
       "      <td id=\"T_34316_row7_col4\" class=\"data row7 col4\" >0.150878</td>\n",
       "    </tr>\n",
       "    <tr>\n",
       "      <th id=\"T_34316_level0_row8\" class=\"row_heading level0 row8\" >stresses</th>\n",
       "      <td id=\"T_34316_row8_col0\" class=\"data row8 col0\" >0.773062</td>\n",
       "      <td id=\"T_34316_row8_col1\" class=\"data row8 col1\" >0.367266</td>\n",
       "      <td id=\"T_34316_row8_col2\" class=\"data row8 col2\" >0.351396</td>\n",
       "      <td id=\"T_34316_row8_col3\" class=\"data row8 col3\" >0.042589</td>\n",
       "      <td id=\"T_34316_row8_col4\" class=\"data row8 col4\" >0.140685</td>\n",
       "    </tr>\n",
       "    <tr>\n",
       "      <th id=\"T_34316_level0_row9\" class=\"row_heading level0 row9\" >common_goals</th>\n",
       "      <td id=\"T_34316_row9_col0\" class=\"data row9 col0\" >0.767630</td>\n",
       "      <td id=\"T_34316_row9_col1\" class=\"data row9 col1\" >0.352012</td>\n",
       "      <td id=\"T_34316_row9_col2\" class=\"data row9 col2\" >0.183620</td>\n",
       "      <td id=\"T_34316_row9_col3\" class=\"data row9 col3\" >0.240463</td>\n",
       "      <td id=\"T_34316_row9_col4\" class=\"data row9 col4\" >0.133885</td>\n",
       "    </tr>\n",
       "    <tr>\n",
       "      <th id=\"T_34316_level0_row10\" class=\"row_heading level0 row10\" >friends_social</th>\n",
       "      <td id=\"T_34316_row10_col0\" class=\"data row10 col0\" >0.761142</td>\n",
       "      <td id=\"T_34316_row10_col1\" class=\"data row10 col1\" >0.435629</td>\n",
       "      <td id=\"T_34316_row10_col2\" class=\"data row10 col2\" >0.291551</td>\n",
       "      <td id=\"T_34316_row10_col3\" class=\"data row10 col3\" >0.106761</td>\n",
       "      <td id=\"T_34316_row10_col4\" class=\"data row10 col4\" >0.097272</td>\n",
       "    </tr>\n",
       "    <tr>\n",
       "      <th id=\"T_34316_level0_row11\" class=\"row_heading level0 row11\" >dreams</th>\n",
       "      <td id=\"T_34316_row11_col0\" class=\"data row11 col0\" >0.745488</td>\n",
       "      <td id=\"T_34316_row11_col1\" class=\"data row11 col1\" >0.353440</td>\n",
       "      <td id=\"T_34316_row11_col2\" class=\"data row11 col2\" >0.327038</td>\n",
       "      <td id=\"T_34316_row11_col3\" class=\"data row11 col3\" >0.305496</td>\n",
       "      <td id=\"T_34316_row11_col4\" class=\"data row11 col4\" >0.104044</td>\n",
       "    </tr>\n",
       "    <tr>\n",
       "      <th id=\"T_34316_level0_row12\" class=\"row_heading level0 row12\" >enjoy_travel</th>\n",
       "      <td id=\"T_34316_row12_col0\" class=\"data row12 col0\" >0.724568</td>\n",
       "      <td id=\"T_34316_row12_col1\" class=\"data row12 col1\" >0.405889</td>\n",
       "      <td id=\"T_34316_row12_col2\" class=\"data row12 col2\" >0.343090</td>\n",
       "      <td id=\"T_34316_row12_col3\" class=\"data row12 col3\" >0.273173</td>\n",
       "      <td id=\"T_34316_row12_col4\" class=\"data row12 col4\" >0.175023</td>\n",
       "    </tr>\n",
       "    <tr>\n",
       "      <th id=\"T_34316_level0_row13\" class=\"row_heading level0 row13\" >Contact</th>\n",
       "      <td id=\"T_34316_row13_col0\" class=\"data row13 col0\" >0.721785</td>\n",
       "      <td id=\"T_34316_row13_col1\" class=\"data row13 col1\" >0.372486</td>\n",
       "      <td id=\"T_34316_row13_col2\" class=\"data row13 col2\" >0.181268</td>\n",
       "      <td id=\"T_34316_row13_col3\" class=\"data row13 col3\" >0.174657</td>\n",
       "      <td id=\"T_34316_row13_col4\" class=\"data row13 col4\" >0.242710</td>\n",
       "    </tr>\n",
       "    <tr>\n",
       "      <th id=\"T_34316_level0_row14\" class=\"row_heading level0 row14\" >harmony</th>\n",
       "      <td id=\"T_34316_row14_col0\" class=\"data row14 col0\" >0.719113</td>\n",
       "      <td id=\"T_34316_row14_col1\" class=\"data row14 col1\" >0.479867</td>\n",
       "      <td id=\"T_34316_row14_col2\" class=\"data row14 col2\" >0.282684</td>\n",
       "      <td id=\"T_34316_row14_col3\" class=\"data row14 col3\" >0.257995</td>\n",
       "      <td id=\"T_34316_row14_col4\" class=\"data row14 col4\" >0.109831</td>\n",
       "    </tr>\n",
       "    <tr>\n",
       "      <th id=\"T_34316_level0_row15\" class=\"row_heading level0 row15\" >roles</th>\n",
       "      <td id=\"T_34316_row15_col0\" class=\"data row15 col0\" >0.708170</td>\n",
       "      <td id=\"T_34316_row15_col1\" class=\"data row15 col1\" >0.450446</td>\n",
       "      <td id=\"T_34316_row15_col2\" class=\"data row15 col2\" >0.369660</td>\n",
       "      <td id=\"T_34316_row15_col3\" class=\"data row15 col3\" >0.294286</td>\n",
       "      <td id=\"T_34316_row15_col4\" class=\"data row15 col4\" >0.091962</td>\n",
       "    </tr>\n",
       "    <tr>\n",
       "      <th id=\"T_34316_level0_row16\" class=\"row_heading level0 row16\" >current_stress</th>\n",
       "      <td id=\"T_34316_row16_col0\" class=\"data row16 col0\" >0.705431</td>\n",
       "      <td id=\"T_34316_row16_col1\" class=\"data row16 col1\" >0.398178</td>\n",
       "      <td id=\"T_34316_row16_col2\" class=\"data row16 col2\" >0.425059</td>\n",
       "      <td id=\"T_34316_row16_col3\" class=\"data row16 col3\" >0.166356</td>\n",
       "      <td id=\"T_34316_row16_col4\" class=\"data row16 col4\" >0.130304</td>\n",
       "    </tr>\n",
       "    <tr>\n",
       "      <th id=\"T_34316_level0_row17\" class=\"row_heading level0 row17\" >happy</th>\n",
       "      <td id=\"T_34316_row17_col0\" class=\"data row17 col0\" >0.704887</td>\n",
       "      <td id=\"T_34316_row17_col1\" class=\"data row17 col1\" >0.454021</td>\n",
       "      <td id=\"T_34316_row17_col2\" class=\"data row17 col2\" >0.355759</td>\n",
       "      <td id=\"T_34316_row17_col3\" class=\"data row17 col3\" >0.305878</td>\n",
       "      <td id=\"T_34316_row17_col4\" class=\"data row17 col4\" >0.089859</td>\n",
       "    </tr>\n",
       "    <tr>\n",
       "      <th id=\"T_34316_level0_row18\" class=\"row_heading level0 row18\" >hopes_wishes</th>\n",
       "      <td id=\"T_34316_row18_col0\" class=\"data row18 col0\" >0.701701</td>\n",
       "      <td id=\"T_34316_row18_col1\" class=\"data row18 col1\" >0.477869</td>\n",
       "      <td id=\"T_34316_row18_col2\" class=\"data row18 col2\" >0.337592</td>\n",
       "      <td id=\"T_34316_row18_col3\" class=\"data row18 col3\" >0.078317</td>\n",
       "      <td id=\"T_34316_row18_col4\" class=\"data row18 col4\" >0.006715</td>\n",
       "    </tr>\n",
       "    <tr>\n",
       "      <th id=\"T_34316_level0_row19\" class=\"row_heading level0 row19\" >Sorry_end</th>\n",
       "      <td id=\"T_34316_row19_col0\" class=\"data row19 col0\" >0.698027</td>\n",
       "      <td id=\"T_34316_row19_col1\" class=\"data row19 col1\" >0.415375</td>\n",
       "      <td id=\"T_34316_row19_col2\" class=\"data row19 col2\" >0.251573</td>\n",
       "      <td id=\"T_34316_row19_col3\" class=\"data row19 col3\" >0.221070</td>\n",
       "      <td id=\"T_34316_row19_col4\" class=\"data row19 col4\" >0.190562</td>\n",
       "    </tr>\n",
       "    <tr>\n",
       "      <th id=\"T_34316_level0_row20\" class=\"row_heading level0 row20\" >care_sick</th>\n",
       "      <td id=\"T_34316_row20_col0\" class=\"data row20 col0\" >0.691723</td>\n",
       "      <td id=\"T_34316_row20_col1\" class=\"data row20 col1\" >0.478280</td>\n",
       "      <td id=\"T_34316_row20_col2\" class=\"data row20 col2\" >0.367266</td>\n",
       "      <td id=\"T_34316_row20_col3\" class=\"data row20 col3\" >0.055819</td>\n",
       "      <td id=\"T_34316_row20_col4\" class=\"data row20 col4\" >0.095693</td>\n",
       "    </tr>\n",
       "    <tr>\n",
       "      <th id=\"T_34316_level0_row21\" class=\"row_heading level0 row21\" >begin_correct</th>\n",
       "      <td id=\"T_34316_row21_col0\" class=\"data row21 col0\" >0.685239</td>\n",
       "      <td id=\"T_34316_row21_col1\" class=\"data row21 col1\" >0.362436</td>\n",
       "      <td id=\"T_34316_row21_col2\" class=\"data row21 col2\" >0.142554</td>\n",
       "      <td id=\"T_34316_row21_col3\" class=\"data row21 col3\" >0.229959</td>\n",
       "      <td id=\"T_34316_row21_col4\" class=\"data row21 col4\" >0.270391</td>\n",
       "    </tr>\n",
       "    <tr>\n",
       "      <th id=\"T_34316_level0_row22\" class=\"row_heading level0 row22\" >likes</th>\n",
       "      <td id=\"T_34316_row22_col0\" class=\"data row22 col0\" >0.677761</td>\n",
       "      <td id=\"T_34316_row22_col1\" class=\"data row22 col1\" >0.487334</td>\n",
       "      <td id=\"T_34316_row22_col2\" class=\"data row22 col2\" >0.395634</td>\n",
       "      <td id=\"T_34316_row22_col3\" class=\"data row22 col3\" >0.137235</td>\n",
       "      <td id=\"T_34316_row22_col4\" class=\"data row22 col4\" >0.099071</td>\n",
       "    </tr>\n",
       "    <tr>\n",
       "      <th id=\"T_34316_level0_row23\" class=\"row_heading level0 row23\" >entertain</th>\n",
       "      <td id=\"T_34316_row23_col0\" class=\"data row23 col0\" >0.672403</td>\n",
       "      <td id=\"T_34316_row23_col1\" class=\"data row23 col1\" >0.453337</td>\n",
       "      <td id=\"T_34316_row23_col2\" class=\"data row23 col2\" >0.334284</td>\n",
       "      <td id=\"T_34316_row23_col3\" class=\"data row23 col3\" >0.210426</td>\n",
       "      <td id=\"T_34316_row23_col4\" class=\"data row23 col4\" >0.097349</td>\n",
       "    </tr>\n",
       "    <tr>\n",
       "      <th id=\"T_34316_level0_row24\" class=\"row_heading level0 row24\" >Special_time</th>\n",
       "      <td id=\"T_34316_row24_col0\" class=\"data row24 col0\" >0.660066</td>\n",
       "      <td id=\"T_34316_row24_col1\" class=\"data row24 col1\" >0.506009</td>\n",
       "      <td id=\"T_34316_row24_col2\" class=\"data row24 col2\" >0.377305</td>\n",
       "      <td id=\"T_34316_row24_col3\" class=\"data row24 col3\" >0.198270</td>\n",
       "      <td id=\"T_34316_row24_col4\" class=\"data row24 col4\" >0.168693</td>\n",
       "    </tr>\n",
       "    <tr>\n",
       "      <th id=\"T_34316_level0_row25\" class=\"row_heading level0 row25\" >know_well</th>\n",
       "      <td id=\"T_34316_row25_col0\" class=\"data row25 col0\" >0.653553</td>\n",
       "      <td id=\"T_34316_row25_col1\" class=\"data row25 col1\" >0.532366</td>\n",
       "      <td id=\"T_34316_row25_col2\" class=\"data row25 col2\" >0.450013</td>\n",
       "      <td id=\"T_34316_row25_col3\" class=\"data row25 col3\" >0.143833</td>\n",
       "      <td id=\"T_34316_row25_col4\" class=\"data row25 col4\" >0.029069</td>\n",
       "    </tr>\n",
       "    <tr>\n",
       "      <th id=\"T_34316_level0_row26\" class=\"row_heading level0 row26\" >inner_world</th>\n",
       "      <td id=\"T_34316_row26_col0\" class=\"data row26 col0\" >0.648886</td>\n",
       "      <td id=\"T_34316_row26_col1\" class=\"data row26 col1\" >0.530787</td>\n",
       "      <td id=\"T_34316_row26_col2\" class=\"data row26 col2\" >0.385216</td>\n",
       "      <td id=\"T_34316_row26_col3\" class=\"data row26 col3\" >0.113069</td>\n",
       "      <td id=\"T_34316_row26_col4\" class=\"data row26 col4\" >0.006095</td>\n",
       "    </tr>\n",
       "    <tr>\n",
       "      <th id=\"T_34316_level0_row27\" class=\"row_heading level0 row27\" >sudden_discussion</th>\n",
       "      <td id=\"T_34316_row27_col0\" class=\"data row27 col0\" >0.606777</td>\n",
       "      <td id=\"T_34316_row27_col1\" class=\"data row27 col1\" >0.529890</td>\n",
       "      <td id=\"T_34316_row27_col2\" class=\"data row27 col2\" >0.325309</td>\n",
       "      <td id=\"T_34316_row27_col3\" class=\"data row27 col3\" >0.280057</td>\n",
       "      <td id=\"T_34316_row27_col4\" class=\"data row27 col4\" >0.156272</td>\n",
       "    </tr>\n",
       "    <tr>\n",
       "      <th id=\"T_34316_level0_row28\" class=\"row_heading level0 row28\" >idk_what's_going_on</th>\n",
       "      <td id=\"T_34316_row28_col0\" class=\"data row28 col0\" >0.598775</td>\n",
       "      <td id=\"T_34316_row28_col1\" class=\"data row28 col1\" >0.562060</td>\n",
       "      <td id=\"T_34316_row28_col2\" class=\"data row28 col2\" >0.298783</td>\n",
       "      <td id=\"T_34316_row28_col3\" class=\"data row28 col3\" >0.354936</td>\n",
       "      <td id=\"T_34316_row28_col4\" class=\"data row28 col4\" >0.149309</td>\n",
       "    </tr>\n",
       "    <tr>\n",
       "      <th id=\"T_34316_level0_row29\" class=\"row_heading level0 row29\" >fav_food</th>\n",
       "      <td id=\"T_34316_row29_col0\" class=\"data row29 col0\" >0.592516</td>\n",
       "      <td id=\"T_34316_row29_col1\" class=\"data row29 col1\" >0.572785</td>\n",
       "      <td id=\"T_34316_row29_col2\" class=\"data row29 col2\" >0.498514</td>\n",
       "      <td id=\"T_34316_row29_col3\" class=\"data row29 col3\" >0.043166</td>\n",
       "      <td id=\"T_34316_row29_col4\" class=\"data row29 col4\" >0.003986</td>\n",
       "    </tr>\n",
       "    <tr>\n",
       "      <th id=\"T_34316_level0_row30\" class=\"row_heading level0 row30\" >calm_breaks</th>\n",
       "      <td id=\"T_34316_row30_col0\" class=\"data row30 col0\" >0.590439</td>\n",
       "      <td id=\"T_34316_row30_col1\" class=\"data row30 col1\" >0.584806</td>\n",
       "      <td id=\"T_34316_row30_col2\" class=\"data row30 col2\" >0.351094</td>\n",
       "      <td id=\"T_34316_row30_col3\" class=\"data row30 col3\" >0.270377</td>\n",
       "      <td id=\"T_34316_row30_col4\" class=\"data row30 col4\" >0.050584</td>\n",
       "    </tr>\n",
       "    <tr>\n",
       "      <th id=\"T_34316_level0_row31\" class=\"row_heading level0 row31\" >not_calm</th>\n",
       "      <td id=\"T_34316_row31_col0\" class=\"data row31 col0\" >0.556003</td>\n",
       "      <td id=\"T_34316_row31_col1\" class=\"data row31 col1\" >0.666264</td>\n",
       "      <td id=\"T_34316_row31_col2\" class=\"data row31 col2\" >0.215937</td>\n",
       "      <td id=\"T_34316_row31_col3\" class=\"data row31 col3\" >0.234705</td>\n",
       "      <td id=\"T_34316_row31_col4\" class=\"data row31 col4\" >0.168567</td>\n",
       "    </tr>\n",
       "    <tr>\n",
       "      <th id=\"T_34316_level0_row32\" class=\"row_heading level0 row32\" >hate_subjects</th>\n",
       "      <td id=\"T_34316_row32_col0\" class=\"data row32 col0\" >0.555064</td>\n",
       "      <td id=\"T_34316_row32_col1\" class=\"data row32 col1\" >0.632631</td>\n",
       "      <td id=\"T_34316_row32_col2\" class=\"data row32 col2\" >0.296223</td>\n",
       "      <td id=\"T_34316_row32_col3\" class=\"data row32 col3\" >0.257301</td>\n",
       "      <td id=\"T_34316_row32_col4\" class=\"data row32 col4\" >0.115778</td>\n",
       "    </tr>\n",
       "    <tr>\n",
       "      <th id=\"T_34316_level0_row33\" class=\"row_heading level0 row33\" >humiliate</th>\n",
       "      <td id=\"T_34316_row33_col0\" class=\"data row33 col0\" >0.533353</td>\n",
       "      <td id=\"T_34316_row33_col1\" class=\"data row33 col1\" >0.677020</td>\n",
       "      <td id=\"T_34316_row33_col2\" class=\"data row33 col2\" >0.378450</td>\n",
       "      <td id=\"T_34316_row33_col3\" class=\"data row33 col3\" >0.179505</td>\n",
       "      <td id=\"T_34316_row33_col4\" class=\"data row33 col4\" >0.129580</td>\n",
       "    </tr>\n",
       "    <tr>\n",
       "      <th id=\"T_34316_level0_row34\" class=\"row_heading level0 row34\" >insult</th>\n",
       "      <td id=\"T_34316_row34_col0\" class=\"data row34 col0\" >0.531512</td>\n",
       "      <td id=\"T_34316_row34_col1\" class=\"data row34 col1\" >0.683758</td>\n",
       "      <td id=\"T_34316_row34_col2\" class=\"data row34 col2\" >0.396972</td>\n",
       "      <td id=\"T_34316_row34_col3\" class=\"data row34 col3\" >0.141842</td>\n",
       "      <td id=\"T_34316_row34_col4\" class=\"data row34 col4\" >0.071693</td>\n",
       "    </tr>\n",
       "    <tr>\n",
       "      <th id=\"T_34316_level0_row35\" class=\"row_heading level0 row35\" >negative_personality</th>\n",
       "      <td id=\"T_34316_row35_col0\" class=\"data row35 col0\" >0.521361</td>\n",
       "      <td id=\"T_34316_row35_col1\" class=\"data row35 col1\" >0.693789</td>\n",
       "      <td id=\"T_34316_row35_col2\" class=\"data row35 col2\" >0.328333</td>\n",
       "      <td id=\"T_34316_row35_col3\" class=\"data row35 col3\" >0.172851</td>\n",
       "      <td id=\"T_34316_row35_col4\" class=\"data row35 col4\" >0.168607</td>\n",
       "    </tr>\n",
       "    <tr>\n",
       "      <th id=\"T_34316_level0_row36\" class=\"row_heading level0 row36\" >Always_never</th>\n",
       "      <td id=\"T_34316_row36_col0\" class=\"data row36 col0\" >0.516439</td>\n",
       "      <td id=\"T_34316_row36_col1\" class=\"data row36 col1\" >0.620277</td>\n",
       "      <td id=\"T_34316_row36_col2\" class=\"data row36 col2\" >0.216073</td>\n",
       "      <td id=\"T_34316_row36_col3\" class=\"data row36 col3\" >0.272116</td>\n",
       "      <td id=\"T_34316_row36_col4\" class=\"data row36 col4\" >0.222387</td>\n",
       "    </tr>\n",
       "    <tr>\n",
       "      <th id=\"T_34316_level0_row37\" class=\"row_heading level0 row37\" >good_to_leave_home</th>\n",
       "      <td id=\"T_34316_row37_col0\" class=\"data row37 col0\" >0.515830</td>\n",
       "      <td id=\"T_34316_row37_col1\" class=\"data row37 col1\" >0.434057</td>\n",
       "      <td id=\"T_34316_row37_col2\" class=\"data row37 col2\" >0.494724</td>\n",
       "      <td id=\"T_34316_row37_col3\" class=\"data row37 col3\" >0.289250</td>\n",
       "      <td id=\"T_34316_row37_col4\" class=\"data row37 col4\" >0.113322</td>\n",
       "    </tr>\n",
       "    <tr>\n",
       "      <th id=\"T_34316_level0_row38\" class=\"row_heading level0 row38\" >incompetence</th>\n",
       "      <td id=\"T_34316_row38_col0\" class=\"data row38 col0\" >0.477099</td>\n",
       "      <td id=\"T_34316_row38_col1\" class=\"data row38 col1\" >0.647542</td>\n",
       "      <td id=\"T_34316_row38_col2\" class=\"data row38 col2\" >0.366117</td>\n",
       "      <td id=\"T_34316_row38_col3\" class=\"data row38 col3\" >0.138406</td>\n",
       "      <td id=\"T_34316_row38_col4\" class=\"data row38 col4\" >0.149094</td>\n",
       "    </tr>\n",
       "    <tr>\n",
       "      <th id=\"T_34316_level0_row39\" class=\"row_heading level0 row39\" >Aggro_argue</th>\n",
       "      <td id=\"T_34316_row39_col0\" class=\"data row39 col0\" >0.469805</td>\n",
       "      <td id=\"T_34316_row39_col1\" class=\"data row39 col1\" >0.663567</td>\n",
       "      <td id=\"T_34316_row39_col2\" class=\"data row39 col2\" >0.276445</td>\n",
       "      <td id=\"T_34316_row39_col3\" class=\"data row39 col3\" >0.158971</td>\n",
       "      <td id=\"T_34316_row39_col4\" class=\"data row39 col4\" >0.089035</td>\n",
       "    </tr>\n",
       "    <tr>\n",
       "      <th id=\"T_34316_level0_row40\" class=\"row_heading level0 row40\" >offensive_expressions</th>\n",
       "      <td id=\"T_34316_row40_col0\" class=\"data row40 col0\" >0.461393</td>\n",
       "      <td id=\"T_34316_row40_col1\" class=\"data row40 col1\" >0.746075</td>\n",
       "      <td id=\"T_34316_row40_col2\" class=\"data row40 col2\" >0.276470</td>\n",
       "      <td id=\"T_34316_row40_col3\" class=\"data row40 col3\" >0.187270</td>\n",
       "      <td id=\"T_34316_row40_col4\" class=\"data row40 col4\" >0.121620</td>\n",
       "    </tr>\n",
       "    <tr>\n",
       "      <th id=\"T_34316_level0_row41\" class=\"row_heading level0 row41\" >I'm_not_guilty</th>\n",
       "      <td id=\"T_34316_row41_col0\" class=\"data row41 col0\" >0.451648</td>\n",
       "      <td id=\"T_34316_row41_col1\" class=\"data row41 col1\" >0.479588</td>\n",
       "      <td id=\"T_34316_row41_col2\" class=\"data row41 col2\" >0.392268</td>\n",
       "      <td id=\"T_34316_row41_col3\" class=\"data row41 col3\" >0.086672</td>\n",
       "      <td id=\"T_34316_row41_col4\" class=\"data row41 col4\" >0.443480</td>\n",
       "    </tr>\n",
       "    <tr>\n",
       "      <th id=\"T_34316_level0_row42\" class=\"row_heading level0 row42\" >accusations</th>\n",
       "      <td id=\"T_34316_row42_col0\" class=\"data row42 col0\" >0.447605</td>\n",
       "      <td id=\"T_34316_row42_col1\" class=\"data row42 col1\" >0.435259</td>\n",
       "      <td id=\"T_34316_row42_col2\" class=\"data row42 col2\" >0.419185</td>\n",
       "      <td id=\"T_34316_row42_col3\" class=\"data row42 col3\" >0.077546</td>\n",
       "      <td id=\"T_34316_row42_col4\" class=\"data row42 col4\" >0.349794</td>\n",
       "    </tr>\n",
       "    <tr>\n",
       "      <th id=\"T_34316_level0_row43\" class=\"row_heading level0 row43\" >argue_then_leave</th>\n",
       "      <td id=\"T_34316_row43_col0\" class=\"data row43 col0\" >0.440831</td>\n",
       "      <td id=\"T_34316_row43_col1\" class=\"data row43 col1\" >0.353782</td>\n",
       "      <td id=\"T_34316_row43_col2\" class=\"data row43 col2\" >0.578342</td>\n",
       "      <td id=\"T_34316_row43_col3\" class=\"data row43 col3\" >0.213495</td>\n",
       "      <td id=\"T_34316_row43_col4\" class=\"data row43 col4\" >0.118371</td>\n",
       "    </tr>\n",
       "    <tr>\n",
       "      <th id=\"T_34316_level0_row44\" class=\"row_heading level0 row44\" >2_strangers</th>\n",
       "      <td id=\"T_34316_row44_col0\" class=\"data row44 col0\" >0.433963</td>\n",
       "      <td id=\"T_34316_row44_col1\" class=\"data row44 col1\" >0.017474</td>\n",
       "      <td id=\"T_34316_row44_col2\" class=\"data row44 col2\" >-0.018941</td>\n",
       "      <td id=\"T_34316_row44_col3\" class=\"data row44 col3\" >0.567000</td>\n",
       "      <td id=\"T_34316_row44_col4\" class=\"data row44 col4\" >0.249501</td>\n",
       "    </tr>\n",
       "    <tr>\n",
       "      <th id=\"T_34316_level0_row45\" class=\"row_heading level0 row45\" >I'm_not_wrong</th>\n",
       "      <td id=\"T_34316_row45_col0\" class=\"data row45 col0\" >0.361114</td>\n",
       "      <td id=\"T_34316_row45_col1\" class=\"data row45 col1\" >0.535264</td>\n",
       "      <td id=\"T_34316_row45_col2\" class=\"data row45 col2\" >0.320250</td>\n",
       "      <td id=\"T_34316_row45_col3\" class=\"data row45 col3\" >0.089333</td>\n",
       "      <td id=\"T_34316_row45_col4\" class=\"data row45 col4\" >0.532670</td>\n",
       "    </tr>\n",
       "    <tr>\n",
       "      <th id=\"T_34316_level0_row46\" class=\"row_heading level0 row46\" >you're_inadequate</th>\n",
       "      <td id=\"T_34316_row46_col0\" class=\"data row46 col0\" >0.358215</td>\n",
       "      <td id=\"T_34316_row46_col1\" class=\"data row46 col1\" >0.663446</td>\n",
       "      <td id=\"T_34316_row46_col2\" class=\"data row46 col2\" >0.264602</td>\n",
       "      <td id=\"T_34316_row46_col3\" class=\"data row46 col3\" >0.098421</td>\n",
       "      <td id=\"T_34316_row46_col4\" class=\"data row46 col4\" >0.191860</td>\n",
       "    </tr>\n",
       "    <tr>\n",
       "      <th id=\"T_34316_level0_row47\" class=\"row_heading level0 row47\" >silence_fear_anger</th>\n",
       "      <td id=\"T_34316_row47_col0\" class=\"data row47 col0\" >0.353012</td>\n",
       "      <td id=\"T_34316_row47_col1\" class=\"data row47 col1\" >0.339638</td>\n",
       "      <td id=\"T_34316_row47_col2\" class=\"data row47 col2\" >0.688423</td>\n",
       "      <td id=\"T_34316_row47_col3\" class=\"data row47 col3\" >0.079460</td>\n",
       "      <td id=\"T_34316_row47_col4\" class=\"data row47 col4\" >0.182279</td>\n",
       "    </tr>\n",
       "    <tr>\n",
       "      <th id=\"T_34316_level0_row48\" class=\"row_heading level0 row48\" >I'm_right</th>\n",
       "      <td id=\"T_34316_row48_col0\" class=\"data row48 col0\" >0.351496</td>\n",
       "      <td id=\"T_34316_row48_col1\" class=\"data row48 col1\" >0.444549</td>\n",
       "      <td id=\"T_34316_row48_col2\" class=\"data row48 col2\" >0.284883</td>\n",
       "      <td id=\"T_34316_row48_col3\" class=\"data row48 col3\" >0.114407</td>\n",
       "      <td id=\"T_34316_row48_col4\" class=\"data row48 col4\" >0.424175</td>\n",
       "    </tr>\n",
       "    <tr>\n",
       "      <th id=\"T_34316_level0_row49\" class=\"row_heading level0 row49\" >silent_for_calm</th>\n",
       "      <td id=\"T_34316_row49_col0\" class=\"data row49 col0\" >0.301876</td>\n",
       "      <td id=\"T_34316_row49_col1\" class=\"data row49 col1\" >0.163223</td>\n",
       "      <td id=\"T_34316_row49_col2\" class=\"data row49 col2\" >0.794560</td>\n",
       "      <td id=\"T_34316_row49_col3\" class=\"data row49 col3\" >0.104251</td>\n",
       "      <td id=\"T_34316_row49_col4\" class=\"data row49 col4\" >-0.009142</td>\n",
       "    </tr>\n",
       "    <tr>\n",
       "      <th id=\"T_34316_level0_row50\" class=\"row_heading level0 row50\" >no_hesitancy_inadequate</th>\n",
       "      <td id=\"T_34316_row50_col0\" class=\"data row50 col0\" >0.292414</td>\n",
       "      <td id=\"T_34316_row50_col1\" class=\"data row50 col1\" >0.548380</td>\n",
       "      <td id=\"T_34316_row50_col2\" class=\"data row50 col2\" >0.394578</td>\n",
       "      <td id=\"T_34316_row50_col3\" class=\"data row50 col3\" >0.061953</td>\n",
       "      <td id=\"T_34316_row50_col4\" class=\"data row50 col4\" >0.184556</td>\n",
       "    </tr>\n",
       "    <tr>\n",
       "      <th id=\"T_34316_level0_row51\" class=\"row_heading level0 row51\" >silence_instead_of_discussion</th>\n",
       "      <td id=\"T_34316_row51_col0\" class=\"data row51 col0\" >0.261698</td>\n",
       "      <td id=\"T_34316_row51_col1\" class=\"data row51 col1\" >0.178621</td>\n",
       "      <td id=\"T_34316_row51_col2\" class=\"data row51 col2\" >0.772758</td>\n",
       "      <td id=\"T_34316_row51_col3\" class=\"data row51 col3\" >0.099414</td>\n",
       "      <td id=\"T_34316_row51_col4\" class=\"data row51 col4\" >0.095075</td>\n",
       "    </tr>\n",
       "    <tr>\n",
       "      <th id=\"T_34316_level0_row52\" class=\"row_heading level0 row52\" >silence_for_harm</th>\n",
       "      <td id=\"T_34316_row52_col0\" class=\"data row52 col0\" >0.117382</td>\n",
       "      <td id=\"T_34316_row52_col1\" class=\"data row52 col1\" >0.321542</td>\n",
       "      <td id=\"T_34316_row52_col2\" class=\"data row52 col2\" >0.662842</td>\n",
       "      <td id=\"T_34316_row52_col3\" class=\"data row52 col3\" >-0.041512</td>\n",
       "      <td id=\"T_34316_row52_col4\" class=\"data row52 col4\" >0.144313</td>\n",
       "    </tr>\n",
       "    <tr>\n",
       "      <th id=\"T_34316_level0_row53\" class=\"row_heading level0 row53\" >No_home_time</th>\n",
       "      <td id=\"T_34316_row53_col0\" class=\"data row53 col0\" >0.087527</td>\n",
       "      <td id=\"T_34316_row53_col1\" class=\"data row53 col1\" >0.188128</td>\n",
       "      <td id=\"T_34316_row53_col2\" class=\"data row53 col2\" >0.079898</td>\n",
       "      <td id=\"T_34316_row53_col3\" class=\"data row53 col3\" >0.574254</td>\n",
       "      <td id=\"T_34316_row53_col4\" class=\"data row53 col4\" >-0.039732</td>\n",
       "    </tr>\n",
       "  </tbody>\n",
       "</table>\n"
      ],
      "text/plain": [
       "<pandas.io.formats.style.Styler at 0x29711378e50>"
      ]
     },
     "execution_count": 33,
     "metadata": {},
     "output_type": "execute_result"
    }
   ],
   "source": [
    "def highlight_max(s):\n",
    "    # Get 5 largest values of the column\n",
    "    is_large = s.nlargest(10).values\n",
    "    # Apply style is the current value is among the 5 biggest values\n",
    "    return ['background-color: yellow' if v in is_large else '' for v in s]\n",
    "\n",
    "fa_load.sort_values(by=0,ascending=False).style.apply(highlight_max)"
   ]
  },
  {
   "cell_type": "code",
   "execution_count": 22,
   "id": "b97037aa",
   "metadata": {
    "papermill": {
     "duration": 0.06245,
     "end_time": "2021-12-25T14:49:56.799173",
     "exception": false,
     "start_time": "2021-12-25T14:49:56.736723",
     "status": "completed"
    },
    "tags": []
   },
   "outputs": [
    {
     "name": "stdout",
     "output_type": "stream",
     "text": [
      "                          0          1         2         3         4\n",
      "Variance          20.309095  12.237167  7.698707  2.489724  1.823363\n",
      "Proportional Var   0.376094   0.226614  0.142569  0.046106  0.033766\n",
      "Cumulative Var     0.376094   0.602709  0.745277  0.791383  0.825149\n"
     ]
    }
   ],
   "source": [
    "print(pd.DataFrame(fa.get_factor_variance(),index=['Variance','Proportional Var','Cumulative Var']))"
   ]
  },
  {
   "cell_type": "markdown",
   "id": "0864f4e7",
   "metadata": {
    "papermill": {
     "duration": 0.046757,
     "end_time": "2021-12-25T14:49:56.893475",
     "exception": false,
     "start_time": "2021-12-25T14:49:56.846718",
     "status": "completed"
    },
    "tags": []
   },
   "source": [
    "**The new 5 factors created can explain 82.5% variance in the data.**"
   ]
  },
  {
   "cell_type": "markdown",
   "id": "26bacd21",
   "metadata": {
    "papermill": {
     "duration": 0.047446,
     "end_time": "2021-12-25T14:49:56.987802",
     "exception": false,
     "start_time": "2021-12-25T14:49:56.940356",
     "status": "completed"
    },
    "tags": []
   },
   "source": [
    "### Model Prediction"
   ]
  },
  {
   "cell_type": "code",
   "execution_count": 23,
   "id": "878e84fd",
   "metadata": {
    "papermill": {
     "duration": 0.056417,
     "end_time": "2021-12-25T14:49:57.092057",
     "exception": false,
     "start_time": "2021-12-25T14:49:57.035640",
     "status": "completed"
    },
    "tags": []
   },
   "outputs": [
    {
     "data": {
      "text/plain": [
       "((170, 54), (170,))"
      ]
     },
     "execution_count": 23,
     "metadata": {},
     "output_type": "execute_result"
    }
   ],
   "source": [
    "X = data.copy()\n",
    "y = df['Divorce_Y_N'].copy()\n",
    "X.shape, y.shape"
   ]
  },
  {
   "cell_type": "code",
   "execution_count": 24,
   "id": "f163f7dc",
   "metadata": {
    "papermill": {
     "duration": 0.293791,
     "end_time": "2021-12-25T14:49:57.433378",
     "exception": false,
     "start_time": "2021-12-25T14:49:57.139587",
     "status": "completed"
    },
    "tags": []
   },
   "outputs": [
    {
     "data": {
      "text/plain": [
       "(170, 5)"
      ]
     },
     "execution_count": 24,
     "metadata": {},
     "output_type": "execute_result"
    }
   ],
   "source": [
    "from sklearn.decomposition import FactorAnalysis\n",
    "transformer = FactorAnalysis(n_components=5, random_state=0)\n",
    "X_transformed = transformer.fit_transform(X)\n",
    "X_transformed.shape"
   ]
  },
  {
   "cell_type": "code",
   "execution_count": 25,
   "id": "bc402301",
   "metadata": {
    "papermill": {
     "duration": 0.091934,
     "end_time": "2021-12-25T14:49:57.618559",
     "exception": false,
     "start_time": "2021-12-25T14:49:57.526625",
     "status": "completed"
    },
    "tags": []
   },
   "outputs": [
    {
     "name": "stdout",
     "output_type": "stream",
     "text": [
      "5 fold - cross validated scores - [0.88235294 1.         1.         1.         1.        ]\n",
      "Average accuracy scores - 0.9764705882352942\n"
     ]
    }
   ],
   "source": [
    "from sklearn.model_selection import cross_val_score\n",
    "from sklearn.linear_model import LogisticRegression\n",
    "\n",
    "k = 5\n",
    "model = LogisticRegression()\n",
    "scores = cross_val_score(model,X_transformed,y,cv=k)\n",
    "print(f\"{k} fold - cross validated scores - {scores}\")\n",
    "print(f\"Average accuracy scores - {scores.mean()}\")"
   ]
  },
  {
   "cell_type": "code",
   "execution_count": 26,
   "id": "a986e379",
   "metadata": {
    "papermill": {
     "duration": 0.060267,
     "end_time": "2021-12-25T14:49:57.726680",
     "exception": false,
     "start_time": "2021-12-25T14:49:57.666413",
     "status": "completed"
    },
    "tags": []
   },
   "outputs": [
    {
     "data": {
      "text/plain": [
       "((85, 5), (85, 5), (85,), (85,))"
      ]
     },
     "execution_count": 26,
     "metadata": {},
     "output_type": "execute_result"
    }
   ],
   "source": [
    "from sklearn.model_selection import train_test_split\n",
    "\n",
    "X_train, X_test, y_train, y_test = train_test_split(X_transformed,y,test_size=0.5,stratify=y,random_state=100)\n",
    "X_train.shape, X_test.shape, y_train.shape, y_test.shape"
   ]
  },
  {
   "cell_type": "code",
   "execution_count": 27,
   "id": "9598db25",
   "metadata": {
    "papermill": {
     "duration": 0.064147,
     "end_time": "2021-12-25T14:49:57.838727",
     "exception": false,
     "start_time": "2021-12-25T14:49:57.774580",
     "status": "completed"
    },
    "tags": []
   },
   "outputs": [
    {
     "data": {
      "text/plain": [
       "LogisticRegression(random_state=1)"
      ]
     },
     "execution_count": 27,
     "metadata": {},
     "output_type": "execute_result"
    }
   ],
   "source": [
    "# Build classification model\n",
    "model = LogisticRegression(random_state=1)\n",
    "model.fit(X_train,y_train)"
   ]
  },
  {
   "cell_type": "code",
   "execution_count": 28,
   "id": "932ac93e",
   "metadata": {
    "papermill": {
     "duration": 0.055165,
     "end_time": "2021-12-25T14:49:57.942222",
     "exception": false,
     "start_time": "2021-12-25T14:49:57.887057",
     "status": "completed"
    },
    "tags": []
   },
   "outputs": [],
   "source": [
    "# Prediction\n",
    "y_pred = model.predict(X_test)"
   ]
  },
  {
   "cell_type": "code",
   "execution_count": 29,
   "id": "bcbc28af",
   "metadata": {
    "papermill": {
     "duration": 0.060841,
     "end_time": "2021-12-25T14:49:58.051503",
     "exception": false,
     "start_time": "2021-12-25T14:49:57.990662",
     "status": "completed"
    },
    "tags": []
   },
   "outputs": [
    {
     "name": "stdout",
     "output_type": "stream",
     "text": [
      "              precision    recall  f1-score   support\n",
      "\n",
      "           0       0.96      1.00      0.98        43\n",
      "           1       1.00      0.95      0.98        42\n",
      "\n",
      "    accuracy                           0.98        85\n",
      "   macro avg       0.98      0.98      0.98        85\n",
      "weighted avg       0.98      0.98      0.98        85\n",
      "\n"
     ]
    }
   ],
   "source": [
    "from sklearn.metrics import classification_report\n",
    "\n",
    "print(classification_report(y_test, y_pred))"
   ]
  },
  {
   "cell_type": "code",
   "execution_count": 30,
   "id": "8e4c0227",
   "metadata": {
    "papermill": {
     "duration": 0.056902,
     "end_time": "2021-12-25T14:49:58.156958",
     "exception": false,
     "start_time": "2021-12-25T14:49:58.100056",
     "status": "completed"
    },
    "tags": []
   },
   "outputs": [
    {
     "data": {
      "text/plain": [
       "array([[ 3.08152118,  0.37168413,  0.34749321,  0.15738698, -0.06135314]])"
      ]
     },
     "execution_count": 30,
     "metadata": {},
     "output_type": "execute_result"
    }
   ],
   "source": [
    "model.coef_"
   ]
  },
  {
   "cell_type": "markdown",
   "id": "7659f34b",
   "metadata": {
    "papermill": {
     "duration": 0.050853,
     "end_time": "2021-12-25T14:49:58.256888",
     "exception": false,
     "start_time": "2021-12-25T14:49:58.206035",
     "status": "completed"
    },
    "tags": []
   },
   "source": [
    "**By looking at the coeff, factor 0 is most significant feature that predicts the divorce**"
   ]
  },
  {
   "cell_type": "markdown",
   "id": "d64805df",
   "metadata": {
    "papermill": {
     "duration": 0.048652,
     "end_time": "2021-12-25T14:49:58.354654",
     "exception": false,
     "start_time": "2021-12-25T14:49:58.306002",
     "status": "completed"
    },
    "tags": []
   },
   "source": [
    "### Find the Optimal no of factors based on train-test accuracy"
   ]
  },
  {
   "cell_type": "code",
   "execution_count": null,
   "id": "a1cd6529",
   "metadata": {
    "papermill": {
     "duration": 13.510944,
     "end_time": "2021-12-25T14:50:11.915426",
     "exception": false,
     "start_time": "2021-12-25T14:49:58.404482",
     "status": "completed"
    },
    "tags": []
   },
   "outputs": [],
   "source": [
    "from sklearn.metrics import accuracy_score\n",
    "\n",
    "train_acc = []\n",
    "test_acc = []\n",
    "cv_scores = []\n",
    "\n",
    "for f in range(2,54):\n",
    "    transformer = FactorAnalysis(n"
   ]
  },
  {
   "cell_type": "code",
   "execution_count": null,
   "id": "d2996b6c",
   "metadata": {
    "papermill": {
     "duration": 13.510944,
     "end_time": "2021-12-25T14:50:11.915426",
     "exception": false,
     "start_time": "2021-12-25T14:49:58.404482",
     "status": "completed"
    },
    "tags": []
   },
   "outputs": [],
   "source": []
  },
  {
   "cell_type": "code",
   "execution_count": null,
   "id": "41a62340",
   "metadata": {
    "papermill": {
     "duration": 13.510944,
     "end_time": "2021-12-25T14:50:11.915426",
     "exception": false,
     "start_time": "2021-12-25T14:49:58.404482",
     "status": "completed"
    },
    "tags": []
   },
   "outputs": [],
   "source": []
  },
  {
   "cell_type": "code",
   "execution_count": null,
   "id": "54501c11",
   "metadata": {
    "papermill": {
     "duration": 13.510944,
     "end_time": "2021-12-25T14:50:11.915426",
     "exception": false,
     "start_time": "2021-12-25T14:49:58.404482",
     "status": "completed"
    },
    "tags": []
   },
   "outputs": [],
   "source": []
  },
  {
   "cell_type": "code",
   "execution_count": null,
   "id": "ae7a9e8f",
   "metadata": {
    "papermill": {
     "duration": 13.510944,
     "end_time": "2021-12-25T14:50:11.915426",
     "exception": false,
     "start_time": "2021-12-25T14:49:58.404482",
     "status": "completed"
    },
    "tags": []
   },
   "outputs": [],
   "source": []
  },
  {
   "cell_type": "code",
   "execution_count": 31,
   "id": "d21a03ab",
   "metadata": {
    "papermill": {
     "duration": 13.510944,
     "end_time": "2021-12-25T14:50:11.915426",
     "exception": false,
     "start_time": "2021-12-25T14:49:58.404482",
     "status": "completed"
    },
    "tags": []
   },
   "outputs": [],
   "source": [
    "_components=f, random_state=0)\n",
    "    X_transformed = transformer.fit_transform(X)\n",
    "    \n",
    "    model = LogisticRegression()\n",
    "    scores = cross_val_score(model,X_transformed,y,cv=5)\n",
    "    cv_score = scores.mean()\n",
    "    X_train, X_test, y_train, y_test = train_test_split(X_transformed,y,test_size=0.5,stratify=y,random_state=100)\n",
    "    \n",
    "    model.fit(X_train,y_train)\n",
    "    \n",
    "    y_pred_tr = model.predict(X_train)\n",
    "    y_pred_ts = model.predict(X_test)\n",
    "    \n",
    "    tr_acc = accuracy_score(y_train,y_pred_tr)\n",
    "    ts_acc = accuracy_score(y_test,y_pred_ts)\n",
    "    \n",
    "    train_acc.append(tr_acc)\n",
    "    test_acc.append(ts_acc)\n",
    "    cv_scores.append(cv_score)"
   ]
  },
  {
   "cell_type": "code",
   "execution_count": 32,
   "id": "0496bc5b",
   "metadata": {
    "papermill": {
     "duration": 0.318566,
     "end_time": "2021-12-25T14:50:12.305950",
     "exception": false,
     "start_time": "2021-12-25T14:50:11.987384",
     "status": "completed"
    },
    "tags": []
   },
   "outputs": [
    {
     "data": {
      "text/plain": [
       "Text(0.5, 1.0, 'Factor analysis - Train acc vs Test acc vs CV score')"
      ]
     },
     "execution_count": 32,
     "metadata": {},
     "output_type": "execute_result"
    },
    {
     "data": {
      "image/png": "[encoded data removed]",
      "text/plain": [
       "<Figure size 864x576 with 1 Axes>"
      ]
     },
     "metadata": {
      "needs_background": "light"
     },
     "output_type": "display_data"
    }
   ],
   "source": [
    "pd.DataFrame({'factors':range(2,54),\n",
    "              'train_acc':train_acc,\n",
    "              'test_acc':test_acc,\n",
    "              'cv_score':cv_scores}).set_index('factors').plot(figsize=(12,8))\n",
    "plt.title(\"Factor analysis - Train acc vs Test acc vs CV score\")"
   ]
  },
  {
   "cell_type": "markdown",
   "id": "faf7647b",
   "metadata": {
    "papermill": {
     "duration": 0.050721,
     "end_time": "2021-12-25T14:50:12.408267",
     "exception": false,
     "start_time": "2021-12-25T14:50:12.357546",
     "status": "completed"
    },
    "tags": []
   },
   "source": [
    "**By looking at the graph, the optimal number of factors can be decided between 5 - 14**     \n",
    "**As number of factors increases, the difference between train and test accuracy increases, which clearly indicates the overfitting**"
   ]
  },
  {
   "cell_type": "markdown",
   "id": "64f1f0d3",
   "metadata": {
    "papermill": {
     "duration": 0.051297,
     "end_time": "2021-12-25T14:50:12.511616",
     "exception": false,
     "start_time": "2021-12-25T14:50:12.460319",
     "status": "completed"
    },
    "tags": []
   },
   "source": [
    "**END OF NOTEBOOK**"
   ]
  }
 ],
 "metadata": {
  "kernelspec": {
   "display_name": "Python 3 (ipykernel)",
   "language": "python",
   "name": "python3"
  },
  "language_info": {
   "codemirror_mode": {
    "name": "ipython",
    "version": 3
   },
   "file_extension": ".py",
   "mimetype": "text/x-python",
   "name": "python",
   "nbconvert_exporter": "python",
   "pygments_lexer": "ipython3",
   "version": "3.9.12"
  },
  "papermill": {
   "default_parameters": {},
   "duration": 49.500719,
   "end_time": "2021-12-25T14:50:13.375235",
   "environment_variables": {},
   "exception": null,
   "input_path": "__notebook__.ipynb",
   "output_path": "__notebook__.ipynb",
   "parameters": {},
   "start_time": "2021-12-25T14:49:23.874516",
   "version": "2.3.3"
  }
 },
 "nbformat": 4,
 "nbformat_minor": 5
}
